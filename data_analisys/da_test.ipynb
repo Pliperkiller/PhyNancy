{
 "cells": [
  {
   "cell_type": "code",
   "execution_count": 1,
   "metadata": {},
   "outputs": [],
   "source": [
    "import psycopg2\n",
    "import pandas as pd\n",
    "import sys\n",
    "import os\n",
    "import seaborn as sns\n",
    "import matplotlib.pyplot as plt\n",
    "import numpy as np\n",
    "import scipy.stats as stats\n",
    "import matplotlib.pyplot as plt\n",
    "import pytz\n",
    "import pandas_ta as ta\n",
    "import plotly.express as px\n",
    "import plotly.graph_objects as go\n",
    "from da_controller import *\n",
    "from strategies import *\n",
    "\n",
    "controllers_path = os.path.abspath(\"../historic_updater\")\n",
    "sys.path.append(controllers_path)\n",
    "from controllers import *\n",
    "\n",
    "# READ DF\n",
    "data_path = os.path.abspath(\"../data\")\n",
    "sys.path.append(data_path)\n",
    "data_filepath = os.path.join(data_path, 'BTCUSDT_futures_15m.csv')"
   ]
  },
  {
   "cell_type": "code",
   "execution_count": 2,
   "metadata": {},
   "outputs": [],
   "source": [
    "\n",
    "df = pd.read_csv(data_filepath)\n",
    "plot_candlestick(df)"
   ]
  },
  {
   "cell_type": "code",
   "execution_count": 3,
   "metadata": {},
   "outputs": [],
   "source": [
    "strategy_df = EMADX_strategy(df,fast_EMA=9,slow_EMA=21, long_EMA = 50 ,ADX_thresh=25,ADX_period=14)\n",
    "plot_strategy_signals(strategy_df)"
   ]
  },
  {
   "cell_type": "code",
   "execution_count": null,
   "metadata": {},
   "outputs": [],
   "source": []
  }
 ],
 "metadata": {
  "kernelspec": {
   "display_name": "venv",
   "language": "python",
   "name": "python3"
  },
  "language_info": {
   "codemirror_mode": {
    "name": "ipython",
    "version": 3
   },
   "file_extension": ".py",
   "mimetype": "text/x-python",
   "name": "python",
   "nbconvert_exporter": "python",
   "pygments_lexer": "ipython3",
   "version": "3.11.3"
  }
 },
 "nbformat": 4,
 "nbformat_minor": 2
}
