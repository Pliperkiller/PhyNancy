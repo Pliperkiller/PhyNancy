{
 "cells": [
  {
   "cell_type": "code",
   "execution_count": 1,
   "metadata": {},
   "outputs": [],
   "source": [
    "from models import *\n",
    "from datetime import datetime"
   ]
  },
  {
   "cell_type": "code",
   "execution_count": 2,
   "metadata": {},
   "outputs": [],
   "source": [
    "buyer = buyers.FuturesBuyer(margin=100,leverage=10,taker_commission=0.4/100,maker_commission=0.2/100)"
   ]
  },
  {
   "cell_type": "code",
   "execution_count": 15,
   "metadata": {},
   "outputs": [
    {
     "data": {
      "text/plain": [
       "0.16549999999999998"
      ]
     },
     "execution_count": 15,
     "metadata": {},
     "output_type": "execute_result"
    }
   ],
   "source": [
    "1.5-1.3345"
   ]
  },
  {
   "cell_type": "code",
   "execution_count": 44,
   "metadata": {},
   "outputs": [
    {
     "name": "stdout",
     "output_type": "stream",
     "text": [
      "Candle(open=1.3345, high=1.4, low=1.0, close=1.0, timestamp=datetime.datetime(2025, 2, 19, 1, 5, 45, 217156), signal=0, take_profit=1.0, stop_loss=1.5)\n"
     ]
    }
   ],
   "source": [
    "candle = candles.Candle.Candle(\n",
    "    open=1.3345,\n",
    "    high=1.4,\n",
    "    low=1.0,\n",
    "    close=1.0,\n",
    "    timestamp=datetime.now(),\n",
    "    signal=0,\n",
    "    stop_loss=1.5,\n",
    "    take_profit=1.0\n",
    ")\n",
    "\n",
    "print(candle)"
   ]
  },
  {
   "cell_type": "code",
   "execution_count": 45,
   "metadata": {},
   "outputs": [
    {
     "name": "stdout",
     "output_type": "stream",
     "text": [
      "Close Short Futures Order 7:\n",
      "  Close Price: 1.0\n",
      "  Final Value: 94.00 USDT\n",
      "  P&L: -6.00 USDT (-6.00%)\n"
     ]
    }
   ],
   "source": [
    "buyer.read_chart(candle=candle)"
   ]
  },
  {
   "cell_type": "code",
   "execution_count": 41,
   "metadata": {},
   "outputs": [
    {
     "data": {
      "text/plain": [
       "[<models.orders.FuturesOrder.FuturesOrder at 0x1fad4f45550>]"
      ]
     },
     "execution_count": 41,
     "metadata": {},
     "output_type": "execute_result"
    }
   ],
   "source": [
    "buyer.get_active_orders()"
   ]
  },
  {
   "cell_type": "code",
   "execution_count": 38,
   "metadata": {},
   "outputs": [
    {
     "data": {
      "text/plain": [
       "{'total_orders': 6,\n",
       " 'winning_orders': 6,\n",
       " 'win_rate': 100.0,\n",
       " 'total_profit_loss': 1222.0645161290324}"
      ]
     },
     "execution_count": 38,
     "metadata": {},
     "output_type": "execute_result"
    }
   ],
   "source": [
    "buyer.get_order_stats()"
   ]
  },
  {
   "cell_type": "code",
   "execution_count": null,
   "metadata": {},
   "outputs": [],
   "source": []
  }
 ],
 "metadata": {
  "kernelspec": {
   "display_name": "venv",
   "language": "python",
   "name": "python3"
  },
  "language_info": {
   "codemirror_mode": {
    "name": "ipython",
    "version": 3
   },
   "file_extension": ".py",
   "mimetype": "text/x-python",
   "name": "python",
   "nbconvert_exporter": "python",
   "pygments_lexer": "ipython3",
   "version": "3.11.3"
  }
 },
 "nbformat": 4,
 "nbformat_minor": 2
}
