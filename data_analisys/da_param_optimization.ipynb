{
 "cells": [
  {
   "cell_type": "code",
   "execution_count": 1,
   "metadata": {},
   "outputs": [],
   "source": [
    "import psycopg2\n",
    "import pandas as pd\n",
    "import sys\n",
    "import os\n",
    "import seaborn as sns\n",
    "import matplotlib.pyplot as plt\n",
    "import numpy as np\n",
    "import scipy.stats as stats\n",
    "import pytz\n",
    "import pandas_ta as ta\n",
    "import plotly.express as px\n",
    "import plotly.graph_objects as go\n",
    "import itertools\n",
    "from da_controller import *\n",
    "from strategies import *\n",
    "\n",
    "controllers_path = os.path.abspath(\"../historic_updater\")\n",
    "sys.path.append(controllers_path)\n",
    "from controllers import *\n",
    "\n",
    "# READ DF\n",
    "data_path = os.path.abspath(\"../data\")\n",
    "sys.path.append(data_path)\n",
    "data_filepath = os.path.join(data_path, 'BTCUSDT_futures_15m.csv')\n",
    "df = pd.read_csv(data_filepath)\n",
    "df = format_df(df)\n"
   ]
  },
  {
   "cell_type": "code",
   "execution_count": 2,
   "metadata": {},
   "outputs": [
    {
     "data": {
      "text/plain": [
       "np.float64(2273.8415602337104)"
      ]
     },
     "execution_count": 2,
     "metadata": {},
     "output_type": "execute_result"
    }
   ],
   "source": [
    "backtest(df, VOLUMEMADX_strategy, fast_EMA=5, slow_EMA=17, long_EMA=250, ADX_thresh=20, ADX_period=14, vol_sma_period=10)\n"
   ]
  },
  {
   "cell_type": "code",
   "execution_count": null,
   "metadata": {},
   "outputs": [],
   "source": [
    "detailed_backtest(df, VOLUMEMADX_strategy, fast_EMA=5, slow_EMA=17, long_EMA=250, ADX_thresh=20, ADX_period=14, vol_sma_period=10)"
   ]
  },
  {
   "cell_type": "code",
   "execution_count": 5,
   "metadata": {},
   "outputs": [
    {
     "name": "stdout",
     "output_type": "stream",
     "text": [
      "Iteración 2550/28800\r"
     ]
    },
    {
     "ename": "KeyboardInterrupt",
     "evalue": "",
     "output_type": "error",
     "traceback": [
      "\u001b[1;31m---------------------------------------------------------------------------\u001b[0m",
      "\u001b[1;31mKeyboardInterrupt\u001b[0m                         Traceback (most recent call last)",
      "Cell \u001b[1;32mIn[5], line 24\u001b[0m\n\u001b[0;32m     19\u001b[0m i \u001b[38;5;241m=\u001b[39m \u001b[38;5;241m0\u001b[39m\n\u001b[0;32m     21\u001b[0m \u001b[38;5;28;01mfor\u001b[39;00m fast_EMA, slow_EMA, long_EMA, ADX_thresh, ADX_period,vol_sma_period \u001b[38;5;129;01min\u001b[39;00m itertools\u001b[38;5;241m.\u001b[39mproduct(\n\u001b[0;32m     22\u001b[0m     fast_EMA_range, slow_EMA_range, long_EMA_range, ADX_thresh_range, ADX_period_range, vol_sma_period_range\n\u001b[0;32m     23\u001b[0m ):\n\u001b[1;32m---> 24\u001b[0m     strategy_df \u001b[38;5;241m=\u001b[39m \u001b[43mVOLUMEMADX_strategy\u001b[49m\u001b[43m(\u001b[49m\u001b[43mdf\u001b[49m\u001b[43m,\u001b[49m\u001b[43m \u001b[49m\u001b[43mfast_EMA\u001b[49m\u001b[43m,\u001b[49m\u001b[43m \u001b[49m\u001b[43mslow_EMA\u001b[49m\u001b[43m,\u001b[49m\u001b[43m \u001b[49m\u001b[43mlong_EMA\u001b[49m\u001b[43m,\u001b[49m\u001b[43m \u001b[49m\u001b[43mADX_thresh\u001b[49m\u001b[43m,\u001b[49m\u001b[43m \u001b[49m\u001b[43mADX_period\u001b[49m\u001b[43m,\u001b[49m\u001b[43m \u001b[49m\u001b[43mvol_sma_period\u001b[49m\u001b[43m)\u001b[49m\n\u001b[0;32m     25\u001b[0m     VOLUMEMADX \u001b[38;5;241m=\u001b[39m SpotTradeAnalyzer(strategy_df,name\u001b[38;5;241m=\u001b[39m\u001b[38;5;124m'\u001b[39m\u001b[38;5;124mVOLUMEMADX\u001b[39m\u001b[38;5;124m'\u001b[39m)\n\u001b[0;32m     26\u001b[0m     \u001b[38;5;28;01mif\u001b[39;00m fast_EMA \u001b[38;5;241m<\u001b[39m slow_EMA \u001b[38;5;241m<\u001b[39m long_EMA:  \u001b[38;5;66;03m# Aseguramos configuraciones válidas\u001b[39;00m\n",
      "File \u001b[1;32mc:\\Users\\pipek\\Documents\\codefolder\\nancy\\PhyNancy\\data_analisys\\strategies.py:58\u001b[0m, in \u001b[0;36mVOLUMEMADX_strategy\u001b[1;34m(data, fast_EMA, slow_EMA, long_EMA, ADX_thresh, ADX_period, vol_sma_period)\u001b[0m\n\u001b[0;32m     56\u001b[0m df[\u001b[38;5;124m'\u001b[39m\u001b[38;5;124mEMA_fast\u001b[39m\u001b[38;5;124m'\u001b[39m] \u001b[38;5;241m=\u001b[39m ta\u001b[38;5;241m.\u001b[39mema(df[\u001b[38;5;124m'\u001b[39m\u001b[38;5;124mclose\u001b[39m\u001b[38;5;124m'\u001b[39m], length\u001b[38;5;241m=\u001b[39mfast_EMA)\n\u001b[0;32m     57\u001b[0m df[\u001b[38;5;124m'\u001b[39m\u001b[38;5;124mEMA_slow\u001b[39m\u001b[38;5;124m'\u001b[39m] \u001b[38;5;241m=\u001b[39m ta\u001b[38;5;241m.\u001b[39mema(df[\u001b[38;5;124m'\u001b[39m\u001b[38;5;124mclose\u001b[39m\u001b[38;5;124m'\u001b[39m], length\u001b[38;5;241m=\u001b[39mslow_EMA)\n\u001b[1;32m---> 58\u001b[0m df[\u001b[38;5;124m'\u001b[39m\u001b[38;5;124mEMA_long\u001b[39m\u001b[38;5;124m'\u001b[39m] \u001b[38;5;241m=\u001b[39m \u001b[43mta\u001b[49m\u001b[38;5;241;43m.\u001b[39;49m\u001b[43mema\u001b[49m\u001b[43m(\u001b[49m\u001b[43mdf\u001b[49m\u001b[43m[\u001b[49m\u001b[38;5;124;43m'\u001b[39;49m\u001b[38;5;124;43mclose\u001b[39;49m\u001b[38;5;124;43m'\u001b[39;49m\u001b[43m]\u001b[49m\u001b[43m,\u001b[49m\u001b[43m \u001b[49m\u001b[43mlength\u001b[49m\u001b[38;5;241;43m=\u001b[39;49m\u001b[43mlong_EMA\u001b[49m\u001b[43m)\u001b[49m\n\u001b[0;32m     60\u001b[0m \u001b[38;5;66;03m# ADX Calculation\u001b[39;00m\n\u001b[0;32m     61\u001b[0m df[\u001b[38;5;124m'\u001b[39m\u001b[38;5;124mADX\u001b[39m\u001b[38;5;124m'\u001b[39m] \u001b[38;5;241m=\u001b[39m ta\u001b[38;5;241m.\u001b[39madx(high\u001b[38;5;241m=\u001b[39mdf[\u001b[38;5;124m'\u001b[39m\u001b[38;5;124mhigh\u001b[39m\u001b[38;5;124m'\u001b[39m], low\u001b[38;5;241m=\u001b[39mdf[\u001b[38;5;124m'\u001b[39m\u001b[38;5;124mlow\u001b[39m\u001b[38;5;124m'\u001b[39m], close\u001b[38;5;241m=\u001b[39mdf[\u001b[38;5;124m'\u001b[39m\u001b[38;5;124mclose\u001b[39m\u001b[38;5;124m'\u001b[39m], length\u001b[38;5;241m=\u001b[39mADX_period)[\u001b[38;5;124m'\u001b[39m\u001b[38;5;124mADX_\u001b[39m\u001b[38;5;124m'\u001b[39m\u001b[38;5;241m+\u001b[39m\u001b[38;5;28mstr\u001b[39m(ADX_period)]\n",
      "File \u001b[1;32mc:\\Users\\pipek\\Documents\\codefolder\\nancy\\PhyNancy\\venv\\Lib\\site-packages\\pandas_ta\\overlap\\ema.py:29\u001b[0m, in \u001b[0;36mema\u001b[1;34m(close, length, talib, offset, **kwargs)\u001b[0m\n\u001b[0;32m     27\u001b[0m         close[:length \u001b[38;5;241m-\u001b[39m \u001b[38;5;241m1\u001b[39m] \u001b[38;5;241m=\u001b[39m npNaN\n\u001b[0;32m     28\u001b[0m         close\u001b[38;5;241m.\u001b[39miloc[length \u001b[38;5;241m-\u001b[39m \u001b[38;5;241m1\u001b[39m] \u001b[38;5;241m=\u001b[39m sma_nth\n\u001b[1;32m---> 29\u001b[0m     ema \u001b[38;5;241m=\u001b[39m \u001b[43mclose\u001b[49m\u001b[38;5;241;43m.\u001b[39;49m\u001b[43mewm\u001b[49m\u001b[43m(\u001b[49m\u001b[43mspan\u001b[49m\u001b[38;5;241;43m=\u001b[39;49m\u001b[43mlength\u001b[49m\u001b[43m,\u001b[49m\u001b[43m \u001b[49m\u001b[43madjust\u001b[49m\u001b[38;5;241;43m=\u001b[39;49m\u001b[43madjust\u001b[49m\u001b[43m)\u001b[49m\u001b[38;5;241m.\u001b[39mmean()\n\u001b[0;32m     31\u001b[0m \u001b[38;5;66;03m# Offset\u001b[39;00m\n\u001b[0;32m     32\u001b[0m \u001b[38;5;28;01mif\u001b[39;00m offset \u001b[38;5;241m!=\u001b[39m \u001b[38;5;241m0\u001b[39m:\n",
      "File \u001b[1;32mc:\\Users\\pipek\\Documents\\codefolder\\nancy\\PhyNancy\\venv\\Lib\\site-packages\\pandas\\core\\generic.py:12661\u001b[0m, in \u001b[0;36mNDFrame.ewm\u001b[1;34m(self, com, span, halflife, alpha, min_periods, adjust, ignore_na, axis, times, method)\u001b[0m\n\u001b[0;32m  12658\u001b[0m \u001b[38;5;28;01melse\u001b[39;00m:\n\u001b[0;32m  12659\u001b[0m     axis \u001b[38;5;241m=\u001b[39m \u001b[38;5;241m0\u001b[39m\n\u001b[1;32m> 12661\u001b[0m \u001b[38;5;28;01mreturn\u001b[39;00m \u001b[43mExponentialMovingWindow\u001b[49m\u001b[43m(\u001b[49m\n\u001b[0;32m  12662\u001b[0m \u001b[43m    \u001b[49m\u001b[38;5;28;43mself\u001b[39;49m\u001b[43m,\u001b[49m\n\u001b[0;32m  12663\u001b[0m \u001b[43m    \u001b[49m\u001b[43mcom\u001b[49m\u001b[38;5;241;43m=\u001b[39;49m\u001b[43mcom\u001b[49m\u001b[43m,\u001b[49m\n\u001b[0;32m  12664\u001b[0m \u001b[43m    \u001b[49m\u001b[43mspan\u001b[49m\u001b[38;5;241;43m=\u001b[39;49m\u001b[43mspan\u001b[49m\u001b[43m,\u001b[49m\n\u001b[0;32m  12665\u001b[0m \u001b[43m    \u001b[49m\u001b[43mhalflife\u001b[49m\u001b[38;5;241;43m=\u001b[39;49m\u001b[43mhalflife\u001b[49m\u001b[43m,\u001b[49m\n\u001b[0;32m  12666\u001b[0m \u001b[43m    \u001b[49m\u001b[43malpha\u001b[49m\u001b[38;5;241;43m=\u001b[39;49m\u001b[43malpha\u001b[49m\u001b[43m,\u001b[49m\n\u001b[0;32m  12667\u001b[0m \u001b[43m    \u001b[49m\u001b[43mmin_periods\u001b[49m\u001b[38;5;241;43m=\u001b[39;49m\u001b[43mmin_periods\u001b[49m\u001b[43m,\u001b[49m\n\u001b[0;32m  12668\u001b[0m \u001b[43m    \u001b[49m\u001b[43madjust\u001b[49m\u001b[38;5;241;43m=\u001b[39;49m\u001b[43madjust\u001b[49m\u001b[43m,\u001b[49m\n\u001b[0;32m  12669\u001b[0m \u001b[43m    \u001b[49m\u001b[43mignore_na\u001b[49m\u001b[38;5;241;43m=\u001b[39;49m\u001b[43mignore_na\u001b[49m\u001b[43m,\u001b[49m\n\u001b[0;32m  12670\u001b[0m \u001b[43m    \u001b[49m\u001b[43maxis\u001b[49m\u001b[38;5;241;43m=\u001b[39;49m\u001b[43maxis\u001b[49m\u001b[43m,\u001b[49m\n\u001b[0;32m  12671\u001b[0m \u001b[43m    \u001b[49m\u001b[43mtimes\u001b[49m\u001b[38;5;241;43m=\u001b[39;49m\u001b[43mtimes\u001b[49m\u001b[43m,\u001b[49m\n\u001b[0;32m  12672\u001b[0m \u001b[43m    \u001b[49m\u001b[43mmethod\u001b[49m\u001b[38;5;241;43m=\u001b[39;49m\u001b[43mmethod\u001b[49m\u001b[43m,\u001b[49m\n\u001b[0;32m  12673\u001b[0m \u001b[43m\u001b[49m\u001b[43m)\u001b[49m\n",
      "File \u001b[1;32mc:\\Users\\pipek\\Documents\\codefolder\\nancy\\PhyNancy\\venv\\Lib\\site-packages\\pandas\\core\\window\\ewm.py:400\u001b[0m, in \u001b[0;36mExponentialMovingWindow.__init__\u001b[1;34m(self, obj, com, span, halflife, alpha, min_periods, adjust, ignore_na, axis, times, method, selection)\u001b[0m\n\u001b[0;32m    395\u001b[0m     \u001b[38;5;28;01mraise\u001b[39;00m \u001b[38;5;167;01mValueError\u001b[39;00m(\n\u001b[0;32m    396\u001b[0m         \u001b[38;5;124m\"\u001b[39m\u001b[38;5;124mhalflife can only be a timedelta convertible argument if \u001b[39m\u001b[38;5;124m\"\u001b[39m\n\u001b[0;32m    397\u001b[0m         \u001b[38;5;124m\"\u001b[39m\u001b[38;5;124mtimes is not None.\u001b[39m\u001b[38;5;124m\"\u001b[39m\n\u001b[0;32m    398\u001b[0m     )\n\u001b[0;32m    399\u001b[0m \u001b[38;5;66;03m# Without times, points are equally spaced\u001b[39;00m\n\u001b[1;32m--> 400\u001b[0m \u001b[38;5;28mself\u001b[39m\u001b[38;5;241m.\u001b[39m_deltas \u001b[38;5;241m=\u001b[39m \u001b[43mnp\u001b[49m\u001b[38;5;241;43m.\u001b[39;49m\u001b[43mones\u001b[49m\u001b[43m(\u001b[49m\n\u001b[0;32m    401\u001b[0m \u001b[43m    \u001b[49m\u001b[38;5;28;43mmax\u001b[39;49m\u001b[43m(\u001b[49m\u001b[38;5;28;43mself\u001b[39;49m\u001b[38;5;241;43m.\u001b[39;49m\u001b[43mobj\u001b[49m\u001b[38;5;241;43m.\u001b[39;49m\u001b[43mshape\u001b[49m\u001b[43m[\u001b[49m\u001b[38;5;28;43mself\u001b[39;49m\u001b[38;5;241;43m.\u001b[39;49m\u001b[43maxis\u001b[49m\u001b[43m]\u001b[49m\u001b[43m \u001b[49m\u001b[38;5;241;43m-\u001b[39;49m\u001b[43m \u001b[49m\u001b[38;5;241;43m1\u001b[39;49m\u001b[43m,\u001b[49m\u001b[43m \u001b[49m\u001b[38;5;241;43m0\u001b[39;49m\u001b[43m)\u001b[49m\u001b[43m,\u001b[49m\u001b[43m \u001b[49m\u001b[43mdtype\u001b[49m\u001b[38;5;241;43m=\u001b[39;49m\u001b[43mnp\u001b[49m\u001b[38;5;241;43m.\u001b[39;49m\u001b[43mfloat64\u001b[49m\n\u001b[0;32m    402\u001b[0m \u001b[43m\u001b[49m\u001b[43m)\u001b[49m\n\u001b[0;32m    403\u001b[0m \u001b[38;5;28mself\u001b[39m\u001b[38;5;241m.\u001b[39m_com \u001b[38;5;241m=\u001b[39m get_center_of_mass(\n\u001b[0;32m    404\u001b[0m     \u001b[38;5;66;03m# error: Argument 3 to \"get_center_of_mass\" has incompatible type\u001b[39;00m\n\u001b[0;32m    405\u001b[0m     \u001b[38;5;66;03m# \"Union[float, Any, None, timedelta64, signedinteger[_64Bit]]\";\u001b[39;00m\n\u001b[1;32m   (...)\u001b[0m\n\u001b[0;32m    410\u001b[0m     \u001b[38;5;28mself\u001b[39m\u001b[38;5;241m.\u001b[39malpha,\n\u001b[0;32m    411\u001b[0m )\n",
      "File \u001b[1;32mc:\\Users\\pipek\\Documents\\codefolder\\nancy\\PhyNancy\\venv\\Lib\\site-packages\\numpy\\_core\\numeric.py:200\u001b[0m, in \u001b[0;36mones\u001b[1;34m(shape, dtype, order, device, like)\u001b[0m\n\u001b[0;32m    195\u001b[0m     \u001b[38;5;28;01mreturn\u001b[39;00m _ones_with_like(\n\u001b[0;32m    196\u001b[0m         like, shape, dtype\u001b[38;5;241m=\u001b[39mdtype, order\u001b[38;5;241m=\u001b[39morder, device\u001b[38;5;241m=\u001b[39mdevice\n\u001b[0;32m    197\u001b[0m     )\n\u001b[0;32m    199\u001b[0m a \u001b[38;5;241m=\u001b[39m empty(shape, dtype, order, device\u001b[38;5;241m=\u001b[39mdevice)\n\u001b[1;32m--> 200\u001b[0m \u001b[43mmultiarray\u001b[49m\u001b[38;5;241;43m.\u001b[39;49m\u001b[43mcopyto\u001b[49m\u001b[43m(\u001b[49m\u001b[43ma\u001b[49m\u001b[43m,\u001b[49m\u001b[43m \u001b[49m\u001b[38;5;241;43m1\u001b[39;49m\u001b[43m,\u001b[49m\u001b[43m \u001b[49m\u001b[43mcasting\u001b[49m\u001b[38;5;241;43m=\u001b[39;49m\u001b[38;5;124;43m'\u001b[39;49m\u001b[38;5;124;43munsafe\u001b[39;49m\u001b[38;5;124;43m'\u001b[39;49m\u001b[43m)\u001b[49m\n\u001b[0;32m    201\u001b[0m \u001b[38;5;28;01mreturn\u001b[39;00m a\n",
      "\u001b[1;31mKeyboardInterrupt\u001b[0m: "
     ]
    }
   ],
   "source": [
    "#Grid Search\n",
    "fast_EMA_range = range(5, 15, 2)\n",
    "slow_EMA_range = range(15, 31, 2)\n",
    "long_EMA_range = range(150, 251, 25)\n",
    "ADX_thresh_range = range(20, 31, 2)\n",
    "ADX_period_range = range(10, 21, 2)\n",
    "vol_sma_period_range = range(5, 21, 5)\n",
    "\n",
    "# Grid Search\n",
    "best_result = -np.inf\n",
    "best_params = {}\n",
    "total_iters = (\n",
    "len(fast_EMA_range) *\n",
    "len(slow_EMA_range) *\n",
    "len(long_EMA_range) *\n",
    "len(ADX_thresh_range) *\n",
    "len(ADX_period_range) *\n",
    "len(vol_sma_period_range)\n",
    ")\n",
    "i = 0\n",
    "\n",
    "for fast_EMA, slow_EMA, long_EMA, ADX_thresh, ADX_period,vol_sma_period in itertools.product(\n",
    "    fast_EMA_range, slow_EMA_range, long_EMA_range, ADX_thresh_range, ADX_period_range, vol_sma_period_range\n",
    "):\n",
    "    strategy_df = VOLUMEMADX_strategy(df, fast_EMA, slow_EMA, long_EMA, ADX_thresh, ADX_period, vol_sma_period)\n",
    "    VOLUMEMADX = SpotTradeAnalyzer(strategy_df,name='VOLUMEMADX')\n",
    "    if fast_EMA < slow_EMA < long_EMA:  # Aseguramos configuraciones válidas\n",
    "        result = VOLUMEMADX.results['Final funds']\n",
    "        \n",
    "        if result > best_result:\n",
    "            best_result = result\n",
    "            best_params = {\n",
    "                'fast_EMA': fast_EMA,\n",
    "                'slow_EMA': slow_EMA,\n",
    "                'long_EMA': long_EMA,\n",
    "                'ADX_thresh': ADX_thresh,\n",
    "                'ADX_period': ADX_period,\n",
    "                'vol_sma_period': vol_sma_period\n",
    "            }\n",
    "    i += 1\n",
    "    print(f'Iteración {i}/{total_iters}', end='\\r')\n",
    "print(f\"Mejor configuración: {best_params}, Retorno acumulado: {best_result:.2f}\")"
   ]
  },
  {
   "cell_type": "code",
   "execution_count": null,
   "metadata": {},
   "outputs": [],
   "source": [
    "# Genetic algorithm\n",
    "\n"
   ]
  }
 ],
 "metadata": {
  "kernelspec": {
   "display_name": "venv",
   "language": "python",
   "name": "python3"
  },
  "language_info": {
   "codemirror_mode": {
    "name": "ipython",
    "version": 3
   },
   "file_extension": ".py",
   "mimetype": "text/x-python",
   "name": "python",
   "nbconvert_exporter": "python",
   "pygments_lexer": "ipython3",
   "version": "3.11.3"
  }
 },
 "nbformat": 4,
 "nbformat_minor": 2
}
