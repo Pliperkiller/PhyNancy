{
 "cells": [
  {
   "cell_type": "code",
   "execution_count": 49,
   "metadata": {},
   "outputs": [],
   "source": [
    "# IMPORT LIBS\n",
    "import requests\n",
    "from requests import Request, Session\n",
    "from requests.exceptions import ConnectionError, Timeout, TooManyRedirects\n",
    "import pandas as pd\n",
    "import json\n",
    "import datetime\n",
    "import mplfinance as mpf\n",
    "import yfinance as yf\n",
    "import plotly.graph_objects as go\n",
    "import time\n",
    "import dash\n",
    "from dash import dcc, html\n",
    "from dash.dependencies import Input, Output\n"
   ]
  },
  {
   "cell_type": "markdown",
   "metadata": {},
   "source": [
    "# Binance API"
   ]
  },
  {
   "cell_type": "code",
   "execution_count": 41,
   "metadata": {},
   "outputs": [
    {
     "data": {
      "text/html": [
       "<div>\n",
       "<style scoped>\n",
       "    .dataframe tbody tr th:only-of-type {\n",
       "        vertical-align: middle;\n",
       "    }\n",
       "\n",
       "    .dataframe tbody tr th {\n",
       "        vertical-align: top;\n",
       "    }\n",
       "\n",
       "    .dataframe thead th {\n",
       "        text-align: right;\n",
       "    }\n",
       "</style>\n",
       "<table border=\"1\" class=\"dataframe\">\n",
       "  <thead>\n",
       "    <tr style=\"text-align: right;\">\n",
       "      <th></th>\n",
       "      <th>timestamp</th>\n",
       "      <th>open</th>\n",
       "      <th>high</th>\n",
       "      <th>low</th>\n",
       "      <th>close</th>\n",
       "    </tr>\n",
       "  </thead>\n",
       "  <tbody>\n",
       "    <tr>\n",
       "      <th>0</th>\n",
       "      <td>2025-01-09 15:30:00</td>\n",
       "      <td>93540.52000000</td>\n",
       "      <td>93927.53000000</td>\n",
       "      <td>93452.00000000</td>\n",
       "      <td>93920.00000000</td>\n",
       "    </tr>\n",
       "    <tr>\n",
       "      <th>1</th>\n",
       "      <td>2025-01-09 15:45:00</td>\n",
       "      <td>93920.00000000</td>\n",
       "      <td>94588.23000000</td>\n",
       "      <td>93815.33000000</td>\n",
       "      <td>94244.02000000</td>\n",
       "    </tr>\n",
       "    <tr>\n",
       "      <th>2</th>\n",
       "      <td>2025-01-09 16:00:00</td>\n",
       "      <td>94244.02000000</td>\n",
       "      <td>94685.25000000</td>\n",
       "      <td>94170.42000000</td>\n",
       "      <td>94406.29000000</td>\n",
       "    </tr>\n",
       "    <tr>\n",
       "      <th>3</th>\n",
       "      <td>2025-01-09 16:15:00</td>\n",
       "      <td>94406.25000000</td>\n",
       "      <td>94406.25000000</td>\n",
       "      <td>93905.18000000</td>\n",
       "      <td>94027.11000000</td>\n",
       "    </tr>\n",
       "    <tr>\n",
       "      <th>4</th>\n",
       "      <td>2025-01-09 16:30:00</td>\n",
       "      <td>94027.10000000</td>\n",
       "      <td>94203.99000000</td>\n",
       "      <td>93846.15000000</td>\n",
       "      <td>94143.83000000</td>\n",
       "    </tr>\n",
       "  </tbody>\n",
       "</table>\n",
       "</div>"
      ],
      "text/plain": [
       "            timestamp            open            high             low  \\\n",
       "0 2025-01-09 15:30:00  93540.52000000  93927.53000000  93452.00000000   \n",
       "1 2025-01-09 15:45:00  93920.00000000  94588.23000000  93815.33000000   \n",
       "2 2025-01-09 16:00:00  94244.02000000  94685.25000000  94170.42000000   \n",
       "3 2025-01-09 16:15:00  94406.25000000  94406.25000000  93905.18000000   \n",
       "4 2025-01-09 16:30:00  94027.10000000  94203.99000000  93846.15000000   \n",
       "\n",
       "            close  \n",
       "0  93920.00000000  \n",
       "1  94244.02000000  \n",
       "2  94406.29000000  \n",
       "3  94027.11000000  \n",
       "4  94143.83000000  "
      ]
     },
     "execution_count": 41,
     "metadata": {},
     "output_type": "execute_result"
    }
   ],
   "source": [
    "#Binance OLH\n",
    "\n",
    "def get_binance_ohlc():\n",
    "    url = \"https://api.binance.com/api/v3/klines\"\n",
    "    params = {\n",
    "        \"symbol\": \"BTCUSDT\",  # Par de currency\n",
    "        \"interval\": \"15m\",     # Tipo de intervalo\n",
    "        \"limit\": 50           # cantidad de intervalos\n",
    "    }\n",
    "    response = requests.get(url, params=params)\n",
    "    data = response.json()\n",
    "    # Convertir a DataFrame\n",
    "    df = pd.DataFrame(data, columns=[\"timestamp\", \"open\", \"high\", \"low\", \"close\", \"volume\", \"_\", \"_\", \"_\", \"_\", \"_\", \"_\"])\n",
    "    df = df[[\"timestamp\", \"open\", \"high\", \"low\", \"close\"]]\n",
    "    df[\"timestamp\"] = pd.to_datetime(df[\"timestamp\"], unit=\"ms\")\n",
    "\n",
    "    return df\n",
    "\n",
    "ohlc_df = get_binance_ohlc()\n",
    "ohlc_df.head()\n",
    "\n"
   ]
  },
  {
   "cell_type": "code",
   "execution_count": 37,
   "metadata": {},
   "outputs": [
    {
     "name": "stdout",
     "output_type": "stream",
     "text": [
      "<class 'pandas.core.frame.DataFrame'>\n",
      "RangeIndex: 10 entries, 0 to 9\n",
      "Data columns (total 5 columns):\n",
      " #   Column     Non-Null Count  Dtype         \n",
      "---  ------     --------------  -----         \n",
      " 0   timestamp  10 non-null     datetime64[ns]\n",
      " 1   open       10 non-null     object        \n",
      " 2   high       10 non-null     object        \n",
      " 3   low        10 non-null     object        \n",
      " 4   close      10 non-null     object        \n",
      "dtypes: datetime64[ns](1), object(4)\n",
      "memory usage: 532.0+ bytes\n"
     ]
    }
   ],
   "source": [
    "ohlc_df.info()"
   ]
  },
  {
   "cell_type": "code",
   "execution_count": 50,
   "metadata": {},
   "outputs": [
    {
     "data": {
      "application/vnd.plotly.v1+json": {
       "config": {
        "plotlyServerURL": "https://plot.ly"
       },
       "data": [
        {
         "close": [
          "92461.01000000",
          "92227.36000000",
          "92186.93000000",
          "92552.49000000",
          "92637.77000000",
          "92567.00000000",
          "92704.51000000",
          "92775.84000000",
          "92829.45000000",
          "92789.78000000",
          "93113.97000000",
          "93102.52000000",
          "93111.57000000",
          "93515.41000000",
          "93329.65000000",
          "93364.36000000",
          "93432.74000000",
          "93554.99000000",
          "93536.48000000",
          "93589.65000000"
         ],
         "high": [
          "92689.38000000",
          "92500.00000000",
          "92319.94000000",
          "92562.47000000",
          "92764.54000000",
          "92766.64000000",
          "92757.55000000",
          "92850.00000000",
          "92878.79000000",
          "92916.66000000",
          "93133.32000000",
          "93159.16000000",
          "93259.33000000",
          "93548.76000000",
          "93726.87000000",
          "93541.35000000",
          "93588.00000000",
          "93566.82000000",
          "93620.00000000",
          "93596.58000000"
         ],
         "low": [
          "92347.04000000",
          "92185.49000000",
          "92034.55000000",
          "92163.46000000",
          "92524.08000000",
          "92431.73000000",
          "92457.65000000",
          "92534.95000000",
          "92590.33000000",
          "92670.00000000",
          "92763.55000000",
          "92893.85000000",
          "93088.58000000",
          "93033.50000000",
          "93252.60000000",
          "93309.70000000",
          "93328.46000000",
          "93312.58000000",
          "93429.68000000",
          "93520.76000000"
         ],
         "open": [
          "92456.32000000",
          "92461.01000000",
          "92227.36000000",
          "92186.93000000",
          "92552.49000000",
          "92637.65000000",
          "92567.01000000",
          "92704.51000000",
          "92775.85000000",
          "92829.45000000",
          "92789.78000000",
          "93113.98000000",
          "93102.52000000",
          "93111.57000000",
          "93515.41000000",
          "93329.65000000",
          "93364.36000000",
          "93432.74000000",
          "93555.00000000",
          "93536.49000000"
         ],
         "type": "candlestick",
         "x": [
          "2025-01-09T23:00:00",
          "2025-01-09T23:15:00",
          "2025-01-09T23:30:00",
          "2025-01-09T23:45:00",
          "2025-01-10T00:00:00",
          "2025-01-10T00:15:00",
          "2025-01-10T00:30:00",
          "2025-01-10T00:45:00",
          "2025-01-10T01:00:00",
          "2025-01-10T01:15:00",
          "2025-01-10T01:30:00",
          "2025-01-10T01:45:00",
          "2025-01-10T02:00:00",
          "2025-01-10T02:15:00",
          "2025-01-10T02:30:00",
          "2025-01-10T02:45:00",
          "2025-01-10T03:00:00",
          "2025-01-10T03:15:00",
          "2025-01-10T03:30:00",
          "2025-01-10T03:45:00"
         ]
        }
       ],
       "layout": {
        "template": {
         "data": {
          "bar": [
           {
            "error_x": {
             "color": "#2a3f5f"
            },
            "error_y": {
             "color": "#2a3f5f"
            },
            "marker": {
             "line": {
              "color": "#E5ECF6",
              "width": 0.5
             },
             "pattern": {
              "fillmode": "overlay",
              "size": 10,
              "solidity": 0.2
             }
            },
            "type": "bar"
           }
          ],
          "barpolar": [
           {
            "marker": {
             "line": {
              "color": "#E5ECF6",
              "width": 0.5
             },
             "pattern": {
              "fillmode": "overlay",
              "size": 10,
              "solidity": 0.2
             }
            },
            "type": "barpolar"
           }
          ],
          "carpet": [
           {
            "aaxis": {
             "endlinecolor": "#2a3f5f",
             "gridcolor": "white",
             "linecolor": "white",
             "minorgridcolor": "white",
             "startlinecolor": "#2a3f5f"
            },
            "baxis": {
             "endlinecolor": "#2a3f5f",
             "gridcolor": "white",
             "linecolor": "white",
             "minorgridcolor": "white",
             "startlinecolor": "#2a3f5f"
            },
            "type": "carpet"
           }
          ],
          "choropleth": [
           {
            "colorbar": {
             "outlinewidth": 0,
             "ticks": ""
            },
            "type": "choropleth"
           }
          ],
          "contour": [
           {
            "colorbar": {
             "outlinewidth": 0,
             "ticks": ""
            },
            "colorscale": [
             [
              0,
              "#0d0887"
             ],
             [
              0.1111111111111111,
              "#46039f"
             ],
             [
              0.2222222222222222,
              "#7201a8"
             ],
             [
              0.3333333333333333,
              "#9c179e"
             ],
             [
              0.4444444444444444,
              "#bd3786"
             ],
             [
              0.5555555555555556,
              "#d8576b"
             ],
             [
              0.6666666666666666,
              "#ed7953"
             ],
             [
              0.7777777777777778,
              "#fb9f3a"
             ],
             [
              0.8888888888888888,
              "#fdca26"
             ],
             [
              1,
              "#f0f921"
             ]
            ],
            "type": "contour"
           }
          ],
          "contourcarpet": [
           {
            "colorbar": {
             "outlinewidth": 0,
             "ticks": ""
            },
            "type": "contourcarpet"
           }
          ],
          "heatmap": [
           {
            "colorbar": {
             "outlinewidth": 0,
             "ticks": ""
            },
            "colorscale": [
             [
              0,
              "#0d0887"
             ],
             [
              0.1111111111111111,
              "#46039f"
             ],
             [
              0.2222222222222222,
              "#7201a8"
             ],
             [
              0.3333333333333333,
              "#9c179e"
             ],
             [
              0.4444444444444444,
              "#bd3786"
             ],
             [
              0.5555555555555556,
              "#d8576b"
             ],
             [
              0.6666666666666666,
              "#ed7953"
             ],
             [
              0.7777777777777778,
              "#fb9f3a"
             ],
             [
              0.8888888888888888,
              "#fdca26"
             ],
             [
              1,
              "#f0f921"
             ]
            ],
            "type": "heatmap"
           }
          ],
          "heatmapgl": [
           {
            "colorbar": {
             "outlinewidth": 0,
             "ticks": ""
            },
            "colorscale": [
             [
              0,
              "#0d0887"
             ],
             [
              0.1111111111111111,
              "#46039f"
             ],
             [
              0.2222222222222222,
              "#7201a8"
             ],
             [
              0.3333333333333333,
              "#9c179e"
             ],
             [
              0.4444444444444444,
              "#bd3786"
             ],
             [
              0.5555555555555556,
              "#d8576b"
             ],
             [
              0.6666666666666666,
              "#ed7953"
             ],
             [
              0.7777777777777778,
              "#fb9f3a"
             ],
             [
              0.8888888888888888,
              "#fdca26"
             ],
             [
              1,
              "#f0f921"
             ]
            ],
            "type": "heatmapgl"
           }
          ],
          "histogram": [
           {
            "marker": {
             "pattern": {
              "fillmode": "overlay",
              "size": 10,
              "solidity": 0.2
             }
            },
            "type": "histogram"
           }
          ],
          "histogram2d": [
           {
            "colorbar": {
             "outlinewidth": 0,
             "ticks": ""
            },
            "colorscale": [
             [
              0,
              "#0d0887"
             ],
             [
              0.1111111111111111,
              "#46039f"
             ],
             [
              0.2222222222222222,
              "#7201a8"
             ],
             [
              0.3333333333333333,
              "#9c179e"
             ],
             [
              0.4444444444444444,
              "#bd3786"
             ],
             [
              0.5555555555555556,
              "#d8576b"
             ],
             [
              0.6666666666666666,
              "#ed7953"
             ],
             [
              0.7777777777777778,
              "#fb9f3a"
             ],
             [
              0.8888888888888888,
              "#fdca26"
             ],
             [
              1,
              "#f0f921"
             ]
            ],
            "type": "histogram2d"
           }
          ],
          "histogram2dcontour": [
           {
            "colorbar": {
             "outlinewidth": 0,
             "ticks": ""
            },
            "colorscale": [
             [
              0,
              "#0d0887"
             ],
             [
              0.1111111111111111,
              "#46039f"
             ],
             [
              0.2222222222222222,
              "#7201a8"
             ],
             [
              0.3333333333333333,
              "#9c179e"
             ],
             [
              0.4444444444444444,
              "#bd3786"
             ],
             [
              0.5555555555555556,
              "#d8576b"
             ],
             [
              0.6666666666666666,
              "#ed7953"
             ],
             [
              0.7777777777777778,
              "#fb9f3a"
             ],
             [
              0.8888888888888888,
              "#fdca26"
             ],
             [
              1,
              "#f0f921"
             ]
            ],
            "type": "histogram2dcontour"
           }
          ],
          "mesh3d": [
           {
            "colorbar": {
             "outlinewidth": 0,
             "ticks": ""
            },
            "type": "mesh3d"
           }
          ],
          "parcoords": [
           {
            "line": {
             "colorbar": {
              "outlinewidth": 0,
              "ticks": ""
             }
            },
            "type": "parcoords"
           }
          ],
          "pie": [
           {
            "automargin": true,
            "type": "pie"
           }
          ],
          "scatter": [
           {
            "fillpattern": {
             "fillmode": "overlay",
             "size": 10,
             "solidity": 0.2
            },
            "type": "scatter"
           }
          ],
          "scatter3d": [
           {
            "line": {
             "colorbar": {
              "outlinewidth": 0,
              "ticks": ""
             }
            },
            "marker": {
             "colorbar": {
              "outlinewidth": 0,
              "ticks": ""
             }
            },
            "type": "scatter3d"
           }
          ],
          "scattercarpet": [
           {
            "marker": {
             "colorbar": {
              "outlinewidth": 0,
              "ticks": ""
             }
            },
            "type": "scattercarpet"
           }
          ],
          "scattergeo": [
           {
            "marker": {
             "colorbar": {
              "outlinewidth": 0,
              "ticks": ""
             }
            },
            "type": "scattergeo"
           }
          ],
          "scattergl": [
           {
            "marker": {
             "colorbar": {
              "outlinewidth": 0,
              "ticks": ""
             }
            },
            "type": "scattergl"
           }
          ],
          "scattermapbox": [
           {
            "marker": {
             "colorbar": {
              "outlinewidth": 0,
              "ticks": ""
             }
            },
            "type": "scattermapbox"
           }
          ],
          "scatterpolar": [
           {
            "marker": {
             "colorbar": {
              "outlinewidth": 0,
              "ticks": ""
             }
            },
            "type": "scatterpolar"
           }
          ],
          "scatterpolargl": [
           {
            "marker": {
             "colorbar": {
              "outlinewidth": 0,
              "ticks": ""
             }
            },
            "type": "scatterpolargl"
           }
          ],
          "scatterternary": [
           {
            "marker": {
             "colorbar": {
              "outlinewidth": 0,
              "ticks": ""
             }
            },
            "type": "scatterternary"
           }
          ],
          "surface": [
           {
            "colorbar": {
             "outlinewidth": 0,
             "ticks": ""
            },
            "colorscale": [
             [
              0,
              "#0d0887"
             ],
             [
              0.1111111111111111,
              "#46039f"
             ],
             [
              0.2222222222222222,
              "#7201a8"
             ],
             [
              0.3333333333333333,
              "#9c179e"
             ],
             [
              0.4444444444444444,
              "#bd3786"
             ],
             [
              0.5555555555555556,
              "#d8576b"
             ],
             [
              0.6666666666666666,
              "#ed7953"
             ],
             [
              0.7777777777777778,
              "#fb9f3a"
             ],
             [
              0.8888888888888888,
              "#fdca26"
             ],
             [
              1,
              "#f0f921"
             ]
            ],
            "type": "surface"
           }
          ],
          "table": [
           {
            "cells": {
             "fill": {
              "color": "#EBF0F8"
             },
             "line": {
              "color": "white"
             }
            },
            "header": {
             "fill": {
              "color": "#C8D4E3"
             },
             "line": {
              "color": "white"
             }
            },
            "type": "table"
           }
          ]
         },
         "layout": {
          "annotationdefaults": {
           "arrowcolor": "#2a3f5f",
           "arrowhead": 0,
           "arrowwidth": 1
          },
          "autotypenumbers": "strict",
          "coloraxis": {
           "colorbar": {
            "outlinewidth": 0,
            "ticks": ""
           }
          },
          "colorscale": {
           "diverging": [
            [
             0,
             "#8e0152"
            ],
            [
             0.1,
             "#c51b7d"
            ],
            [
             0.2,
             "#de77ae"
            ],
            [
             0.3,
             "#f1b6da"
            ],
            [
             0.4,
             "#fde0ef"
            ],
            [
             0.5,
             "#f7f7f7"
            ],
            [
             0.6,
             "#e6f5d0"
            ],
            [
             0.7,
             "#b8e186"
            ],
            [
             0.8,
             "#7fbc41"
            ],
            [
             0.9,
             "#4d9221"
            ],
            [
             1,
             "#276419"
            ]
           ],
           "sequential": [
            [
             0,
             "#0d0887"
            ],
            [
             0.1111111111111111,
             "#46039f"
            ],
            [
             0.2222222222222222,
             "#7201a8"
            ],
            [
             0.3333333333333333,
             "#9c179e"
            ],
            [
             0.4444444444444444,
             "#bd3786"
            ],
            [
             0.5555555555555556,
             "#d8576b"
            ],
            [
             0.6666666666666666,
             "#ed7953"
            ],
            [
             0.7777777777777778,
             "#fb9f3a"
            ],
            [
             0.8888888888888888,
             "#fdca26"
            ],
            [
             1,
             "#f0f921"
            ]
           ],
           "sequentialminus": [
            [
             0,
             "#0d0887"
            ],
            [
             0.1111111111111111,
             "#46039f"
            ],
            [
             0.2222222222222222,
             "#7201a8"
            ],
            [
             0.3333333333333333,
             "#9c179e"
            ],
            [
             0.4444444444444444,
             "#bd3786"
            ],
            [
             0.5555555555555556,
             "#d8576b"
            ],
            [
             0.6666666666666666,
             "#ed7953"
            ],
            [
             0.7777777777777778,
             "#fb9f3a"
            ],
            [
             0.8888888888888888,
             "#fdca26"
            ],
            [
             1,
             "#f0f921"
            ]
           ]
          },
          "colorway": [
           "#636efa",
           "#EF553B",
           "#00cc96",
           "#ab63fa",
           "#FFA15A",
           "#19d3f3",
           "#FF6692",
           "#B6E880",
           "#FF97FF",
           "#FECB52"
          ],
          "font": {
           "color": "#2a3f5f"
          },
          "geo": {
           "bgcolor": "white",
           "lakecolor": "white",
           "landcolor": "#E5ECF6",
           "showlakes": true,
           "showland": true,
           "subunitcolor": "white"
          },
          "hoverlabel": {
           "align": "left"
          },
          "hovermode": "closest",
          "mapbox": {
           "style": "light"
          },
          "paper_bgcolor": "white",
          "plot_bgcolor": "#E5ECF6",
          "polar": {
           "angularaxis": {
            "gridcolor": "white",
            "linecolor": "white",
            "ticks": ""
           },
           "bgcolor": "#E5ECF6",
           "radialaxis": {
            "gridcolor": "white",
            "linecolor": "white",
            "ticks": ""
           }
          },
          "scene": {
           "xaxis": {
            "backgroundcolor": "#E5ECF6",
            "gridcolor": "white",
            "gridwidth": 2,
            "linecolor": "white",
            "showbackground": true,
            "ticks": "",
            "zerolinecolor": "white"
           },
           "yaxis": {
            "backgroundcolor": "#E5ECF6",
            "gridcolor": "white",
            "gridwidth": 2,
            "linecolor": "white",
            "showbackground": true,
            "ticks": "",
            "zerolinecolor": "white"
           },
           "zaxis": {
            "backgroundcolor": "#E5ECF6",
            "gridcolor": "white",
            "gridwidth": 2,
            "linecolor": "white",
            "showbackground": true,
            "ticks": "",
            "zerolinecolor": "white"
           }
          },
          "shapedefaults": {
           "line": {
            "color": "#2a3f5f"
           }
          },
          "ternary": {
           "aaxis": {
            "gridcolor": "white",
            "linecolor": "white",
            "ticks": ""
           },
           "baxis": {
            "gridcolor": "white",
            "linecolor": "white",
            "ticks": ""
           },
           "bgcolor": "#E5ECF6",
           "caxis": {
            "gridcolor": "white",
            "linecolor": "white",
            "ticks": ""
           }
          },
          "title": {
           "x": 0.05
          },
          "xaxis": {
           "automargin": true,
           "gridcolor": "white",
           "linecolor": "white",
           "ticks": "",
           "title": {
            "standoff": 15
           },
           "zerolinecolor": "white",
           "zerolinewidth": 2
          },
          "yaxis": {
           "automargin": true,
           "gridcolor": "white",
           "linecolor": "white",
           "ticks": "",
           "title": {
            "standoff": 15
           },
           "zerolinecolor": "white",
           "zerolinewidth": 2
          }
         }
        },
        "title": {
         "text": "Gráfico de Velas de Bitcoin"
        },
        "xaxis": {
         "dtick": 3600000,
         "gridcolor": "lightgray",
         "gridwidth": 0.5,
         "rangeslider": {
          "visible": false
         },
         "showgrid": true,
         "tickformat": "%H:%M",
         "title": {
          "text": "Fecha"
         }
        },
        "yaxis": {
         "title": {
          "text": "Precio (USD)"
         }
        }
       }
      },
      "text/html": [
       "<div>                            <div id=\"49760dcd-da89-49ca-95c1-5728e3d1de08\" class=\"plotly-graph-div\" style=\"height:525px; width:100%;\"></div>            <script type=\"text/javascript\">                require([\"plotly\"], function(Plotly) {                    window.PLOTLYENV=window.PLOTLYENV || {};                                    if (document.getElementById(\"49760dcd-da89-49ca-95c1-5728e3d1de08\")) {                    Plotly.newPlot(                        \"49760dcd-da89-49ca-95c1-5728e3d1de08\",                        [{\"close\":[\"92461.01000000\",\"92227.36000000\",\"92186.93000000\",\"92552.49000000\",\"92637.77000000\",\"92567.00000000\",\"92704.51000000\",\"92775.84000000\",\"92829.45000000\",\"92789.78000000\",\"93113.97000000\",\"93102.52000000\",\"93111.57000000\",\"93515.41000000\",\"93329.65000000\",\"93364.36000000\",\"93432.74000000\",\"93554.99000000\",\"93536.48000000\",\"93589.65000000\"],\"high\":[\"92689.38000000\",\"92500.00000000\",\"92319.94000000\",\"92562.47000000\",\"92764.54000000\",\"92766.64000000\",\"92757.55000000\",\"92850.00000000\",\"92878.79000000\",\"92916.66000000\",\"93133.32000000\",\"93159.16000000\",\"93259.33000000\",\"93548.76000000\",\"93726.87000000\",\"93541.35000000\",\"93588.00000000\",\"93566.82000000\",\"93620.00000000\",\"93596.58000000\"],\"low\":[\"92347.04000000\",\"92185.49000000\",\"92034.55000000\",\"92163.46000000\",\"92524.08000000\",\"92431.73000000\",\"92457.65000000\",\"92534.95000000\",\"92590.33000000\",\"92670.00000000\",\"92763.55000000\",\"92893.85000000\",\"93088.58000000\",\"93033.50000000\",\"93252.60000000\",\"93309.70000000\",\"93328.46000000\",\"93312.58000000\",\"93429.68000000\",\"93520.76000000\"],\"open\":[\"92456.32000000\",\"92461.01000000\",\"92227.36000000\",\"92186.93000000\",\"92552.49000000\",\"92637.65000000\",\"92567.01000000\",\"92704.51000000\",\"92775.85000000\",\"92829.45000000\",\"92789.78000000\",\"93113.98000000\",\"93102.52000000\",\"93111.57000000\",\"93515.41000000\",\"93329.65000000\",\"93364.36000000\",\"93432.74000000\",\"93555.00000000\",\"93536.49000000\"],\"x\":[\"2025-01-09T23:00:00\",\"2025-01-09T23:15:00\",\"2025-01-09T23:30:00\",\"2025-01-09T23:45:00\",\"2025-01-10T00:00:00\",\"2025-01-10T00:15:00\",\"2025-01-10T00:30:00\",\"2025-01-10T00:45:00\",\"2025-01-10T01:00:00\",\"2025-01-10T01:15:00\",\"2025-01-10T01:30:00\",\"2025-01-10T01:45:00\",\"2025-01-10T02:00:00\",\"2025-01-10T02:15:00\",\"2025-01-10T02:30:00\",\"2025-01-10T02:45:00\",\"2025-01-10T03:00:00\",\"2025-01-10T03:15:00\",\"2025-01-10T03:30:00\",\"2025-01-10T03:45:00\"],\"type\":\"candlestick\"}],                        {\"template\":{\"data\":{\"histogram2dcontour\":[{\"type\":\"histogram2dcontour\",\"colorbar\":{\"outlinewidth\":0,\"ticks\":\"\"},\"colorscale\":[[0.0,\"#0d0887\"],[0.1111111111111111,\"#46039f\"],[0.2222222222222222,\"#7201a8\"],[0.3333333333333333,\"#9c179e\"],[0.4444444444444444,\"#bd3786\"],[0.5555555555555556,\"#d8576b\"],[0.6666666666666666,\"#ed7953\"],[0.7777777777777778,\"#fb9f3a\"],[0.8888888888888888,\"#fdca26\"],[1.0,\"#f0f921\"]]}],\"choropleth\":[{\"type\":\"choropleth\",\"colorbar\":{\"outlinewidth\":0,\"ticks\":\"\"}}],\"histogram2d\":[{\"type\":\"histogram2d\",\"colorbar\":{\"outlinewidth\":0,\"ticks\":\"\"},\"colorscale\":[[0.0,\"#0d0887\"],[0.1111111111111111,\"#46039f\"],[0.2222222222222222,\"#7201a8\"],[0.3333333333333333,\"#9c179e\"],[0.4444444444444444,\"#bd3786\"],[0.5555555555555556,\"#d8576b\"],[0.6666666666666666,\"#ed7953\"],[0.7777777777777778,\"#fb9f3a\"],[0.8888888888888888,\"#fdca26\"],[1.0,\"#f0f921\"]]}],\"heatmap\":[{\"type\":\"heatmap\",\"colorbar\":{\"outlinewidth\":0,\"ticks\":\"\"},\"colorscale\":[[0.0,\"#0d0887\"],[0.1111111111111111,\"#46039f\"],[0.2222222222222222,\"#7201a8\"],[0.3333333333333333,\"#9c179e\"],[0.4444444444444444,\"#bd3786\"],[0.5555555555555556,\"#d8576b\"],[0.6666666666666666,\"#ed7953\"],[0.7777777777777778,\"#fb9f3a\"],[0.8888888888888888,\"#fdca26\"],[1.0,\"#f0f921\"]]}],\"heatmapgl\":[{\"type\":\"heatmapgl\",\"colorbar\":{\"outlinewidth\":0,\"ticks\":\"\"},\"colorscale\":[[0.0,\"#0d0887\"],[0.1111111111111111,\"#46039f\"],[0.2222222222222222,\"#7201a8\"],[0.3333333333333333,\"#9c179e\"],[0.4444444444444444,\"#bd3786\"],[0.5555555555555556,\"#d8576b\"],[0.6666666666666666,\"#ed7953\"],[0.7777777777777778,\"#fb9f3a\"],[0.8888888888888888,\"#fdca26\"],[1.0,\"#f0f921\"]]}],\"contourcarpet\":[{\"type\":\"contourcarpet\",\"colorbar\":{\"outlinewidth\":0,\"ticks\":\"\"}}],\"contour\":[{\"type\":\"contour\",\"colorbar\":{\"outlinewidth\":0,\"ticks\":\"\"},\"colorscale\":[[0.0,\"#0d0887\"],[0.1111111111111111,\"#46039f\"],[0.2222222222222222,\"#7201a8\"],[0.3333333333333333,\"#9c179e\"],[0.4444444444444444,\"#bd3786\"],[0.5555555555555556,\"#d8576b\"],[0.6666666666666666,\"#ed7953\"],[0.7777777777777778,\"#fb9f3a\"],[0.8888888888888888,\"#fdca26\"],[1.0,\"#f0f921\"]]}],\"surface\":[{\"type\":\"surface\",\"colorbar\":{\"outlinewidth\":0,\"ticks\":\"\"},\"colorscale\":[[0.0,\"#0d0887\"],[0.1111111111111111,\"#46039f\"],[0.2222222222222222,\"#7201a8\"],[0.3333333333333333,\"#9c179e\"],[0.4444444444444444,\"#bd3786\"],[0.5555555555555556,\"#d8576b\"],[0.6666666666666666,\"#ed7953\"],[0.7777777777777778,\"#fb9f3a\"],[0.8888888888888888,\"#fdca26\"],[1.0,\"#f0f921\"]]}],\"mesh3d\":[{\"type\":\"mesh3d\",\"colorbar\":{\"outlinewidth\":0,\"ticks\":\"\"}}],\"scatter\":[{\"fillpattern\":{\"fillmode\":\"overlay\",\"size\":10,\"solidity\":0.2},\"type\":\"scatter\"}],\"parcoords\":[{\"type\":\"parcoords\",\"line\":{\"colorbar\":{\"outlinewidth\":0,\"ticks\":\"\"}}}],\"scatterpolargl\":[{\"type\":\"scatterpolargl\",\"marker\":{\"colorbar\":{\"outlinewidth\":0,\"ticks\":\"\"}}}],\"bar\":[{\"error_x\":{\"color\":\"#2a3f5f\"},\"error_y\":{\"color\":\"#2a3f5f\"},\"marker\":{\"line\":{\"color\":\"#E5ECF6\",\"width\":0.5},\"pattern\":{\"fillmode\":\"overlay\",\"size\":10,\"solidity\":0.2}},\"type\":\"bar\"}],\"scattergeo\":[{\"type\":\"scattergeo\",\"marker\":{\"colorbar\":{\"outlinewidth\":0,\"ticks\":\"\"}}}],\"scatterpolar\":[{\"type\":\"scatterpolar\",\"marker\":{\"colorbar\":{\"outlinewidth\":0,\"ticks\":\"\"}}}],\"histogram\":[{\"marker\":{\"pattern\":{\"fillmode\":\"overlay\",\"size\":10,\"solidity\":0.2}},\"type\":\"histogram\"}],\"scattergl\":[{\"type\":\"scattergl\",\"marker\":{\"colorbar\":{\"outlinewidth\":0,\"ticks\":\"\"}}}],\"scatter3d\":[{\"type\":\"scatter3d\",\"line\":{\"colorbar\":{\"outlinewidth\":0,\"ticks\":\"\"}},\"marker\":{\"colorbar\":{\"outlinewidth\":0,\"ticks\":\"\"}}}],\"scattermapbox\":[{\"type\":\"scattermapbox\",\"marker\":{\"colorbar\":{\"outlinewidth\":0,\"ticks\":\"\"}}}],\"scatterternary\":[{\"type\":\"scatterternary\",\"marker\":{\"colorbar\":{\"outlinewidth\":0,\"ticks\":\"\"}}}],\"scattercarpet\":[{\"type\":\"scattercarpet\",\"marker\":{\"colorbar\":{\"outlinewidth\":0,\"ticks\":\"\"}}}],\"carpet\":[{\"aaxis\":{\"endlinecolor\":\"#2a3f5f\",\"gridcolor\":\"white\",\"linecolor\":\"white\",\"minorgridcolor\":\"white\",\"startlinecolor\":\"#2a3f5f\"},\"baxis\":{\"endlinecolor\":\"#2a3f5f\",\"gridcolor\":\"white\",\"linecolor\":\"white\",\"minorgridcolor\":\"white\",\"startlinecolor\":\"#2a3f5f\"},\"type\":\"carpet\"}],\"table\":[{\"cells\":{\"fill\":{\"color\":\"#EBF0F8\"},\"line\":{\"color\":\"white\"}},\"header\":{\"fill\":{\"color\":\"#C8D4E3\"},\"line\":{\"color\":\"white\"}},\"type\":\"table\"}],\"barpolar\":[{\"marker\":{\"line\":{\"color\":\"#E5ECF6\",\"width\":0.5},\"pattern\":{\"fillmode\":\"overlay\",\"size\":10,\"solidity\":0.2}},\"type\":\"barpolar\"}],\"pie\":[{\"automargin\":true,\"type\":\"pie\"}]},\"layout\":{\"autotypenumbers\":\"strict\",\"colorway\":[\"#636efa\",\"#EF553B\",\"#00cc96\",\"#ab63fa\",\"#FFA15A\",\"#19d3f3\",\"#FF6692\",\"#B6E880\",\"#FF97FF\",\"#FECB52\"],\"font\":{\"color\":\"#2a3f5f\"},\"hovermode\":\"closest\",\"hoverlabel\":{\"align\":\"left\"},\"paper_bgcolor\":\"white\",\"plot_bgcolor\":\"#E5ECF6\",\"polar\":{\"bgcolor\":\"#E5ECF6\",\"angularaxis\":{\"gridcolor\":\"white\",\"linecolor\":\"white\",\"ticks\":\"\"},\"radialaxis\":{\"gridcolor\":\"white\",\"linecolor\":\"white\",\"ticks\":\"\"}},\"ternary\":{\"bgcolor\":\"#E5ECF6\",\"aaxis\":{\"gridcolor\":\"white\",\"linecolor\":\"white\",\"ticks\":\"\"},\"baxis\":{\"gridcolor\":\"white\",\"linecolor\":\"white\",\"ticks\":\"\"},\"caxis\":{\"gridcolor\":\"white\",\"linecolor\":\"white\",\"ticks\":\"\"}},\"coloraxis\":{\"colorbar\":{\"outlinewidth\":0,\"ticks\":\"\"}},\"colorscale\":{\"sequential\":[[0.0,\"#0d0887\"],[0.1111111111111111,\"#46039f\"],[0.2222222222222222,\"#7201a8\"],[0.3333333333333333,\"#9c179e\"],[0.4444444444444444,\"#bd3786\"],[0.5555555555555556,\"#d8576b\"],[0.6666666666666666,\"#ed7953\"],[0.7777777777777778,\"#fb9f3a\"],[0.8888888888888888,\"#fdca26\"],[1.0,\"#f0f921\"]],\"sequentialminus\":[[0.0,\"#0d0887\"],[0.1111111111111111,\"#46039f\"],[0.2222222222222222,\"#7201a8\"],[0.3333333333333333,\"#9c179e\"],[0.4444444444444444,\"#bd3786\"],[0.5555555555555556,\"#d8576b\"],[0.6666666666666666,\"#ed7953\"],[0.7777777777777778,\"#fb9f3a\"],[0.8888888888888888,\"#fdca26\"],[1.0,\"#f0f921\"]],\"diverging\":[[0,\"#8e0152\"],[0.1,\"#c51b7d\"],[0.2,\"#de77ae\"],[0.3,\"#f1b6da\"],[0.4,\"#fde0ef\"],[0.5,\"#f7f7f7\"],[0.6,\"#e6f5d0\"],[0.7,\"#b8e186\"],[0.8,\"#7fbc41\"],[0.9,\"#4d9221\"],[1,\"#276419\"]]},\"xaxis\":{\"gridcolor\":\"white\",\"linecolor\":\"white\",\"ticks\":\"\",\"title\":{\"standoff\":15},\"zerolinecolor\":\"white\",\"automargin\":true,\"zerolinewidth\":2},\"yaxis\":{\"gridcolor\":\"white\",\"linecolor\":\"white\",\"ticks\":\"\",\"title\":{\"standoff\":15},\"zerolinecolor\":\"white\",\"automargin\":true,\"zerolinewidth\":2},\"scene\":{\"xaxis\":{\"backgroundcolor\":\"#E5ECF6\",\"gridcolor\":\"white\",\"linecolor\":\"white\",\"showbackground\":true,\"ticks\":\"\",\"zerolinecolor\":\"white\",\"gridwidth\":2},\"yaxis\":{\"backgroundcolor\":\"#E5ECF6\",\"gridcolor\":\"white\",\"linecolor\":\"white\",\"showbackground\":true,\"ticks\":\"\",\"zerolinecolor\":\"white\",\"gridwidth\":2},\"zaxis\":{\"backgroundcolor\":\"#E5ECF6\",\"gridcolor\":\"white\",\"linecolor\":\"white\",\"showbackground\":true,\"ticks\":\"\",\"zerolinecolor\":\"white\",\"gridwidth\":2}},\"shapedefaults\":{\"line\":{\"color\":\"#2a3f5f\"}},\"annotationdefaults\":{\"arrowcolor\":\"#2a3f5f\",\"arrowhead\":0,\"arrowwidth\":1},\"geo\":{\"bgcolor\":\"white\",\"landcolor\":\"#E5ECF6\",\"subunitcolor\":\"white\",\"showland\":true,\"showlakes\":true,\"lakecolor\":\"white\"},\"title\":{\"x\":0.05},\"mapbox\":{\"style\":\"light\"}}},\"xaxis\":{\"rangeslider\":{\"visible\":false},\"title\":{\"text\":\"Fecha\"},\"showgrid\":true,\"gridcolor\":\"lightgray\",\"gridwidth\":0.5,\"tickformat\":\"%H:%M\",\"dtick\":3600000},\"title\":{\"text\":\"Gr\\u00e1fico de Velas de Bitcoin\"},\"yaxis\":{\"title\":{\"text\":\"Precio (USD)\"}}},                        {\"responsive\": true}                    ).then(function(){\n",
       "                            \n",
       "var gd = document.getElementById('49760dcd-da89-49ca-95c1-5728e3d1de08');\n",
       "var x = new MutationObserver(function (mutations, observer) {{\n",
       "        var display = window.getComputedStyle(gd).display;\n",
       "        if (!display || display === 'none') {{\n",
       "            console.log([gd, 'removed!']);\n",
       "            Plotly.purge(gd);\n",
       "            observer.disconnect();\n",
       "        }}\n",
       "}});\n",
       "\n",
       "// Listen for the removal of the full notebook cells\n",
       "var notebookContainer = gd.closest('#notebook-container');\n",
       "if (notebookContainer) {{\n",
       "    x.observe(notebookContainer, {childList: true});\n",
       "}}\n",
       "\n",
       "// Listen for the clearing of the current output cell\n",
       "var outputEl = gd.closest('.output');\n",
       "if (outputEl) {{\n",
       "    x.observe(outputEl, {childList: true});\n",
       "}}\n",
       "\n",
       "                        })                };                });            </script>        </div>"
      ]
     },
     "metadata": {},
     "output_type": "display_data"
    }
   ],
   "source": [
    "df_plot = ohlc_df[-20:]\n",
    "\n",
    "# Crear el gráfico de velas\n",
    "fig = go.Figure(data=[go.Candlestick(\n",
    "    x=df_plot['timestamp'],  # Columna de fechas\n",
    "    open=df_plot['open'],   # Columna de precios de apertura\n",
    "    high=df_plot['high'],   # Columna de precios más altos\n",
    "    low=df_plot['low'],     # Columna de precios más bajos\n",
    "    close=df_plot['close']  # Columna de precios de cierre\n",
    ")])\n",
    "\n",
    "# Ajustar diseño\n",
    "fig.update_layout(\n",
    "    title=\"Gráfico de Velas de Bitcoin\",\n",
    "    xaxis_title=\"Fecha\",\n",
    "    yaxis_title=\"Precio (USD)\",\n",
    "    xaxis_rangeslider_visible=False,\n",
    "        xaxis=dict(\n",
    "        showgrid=True,              # Mostrar cuadrícula en el eje X\n",
    "        gridcolor=\"lightgray\",      # Color de las líneas del grid\n",
    "        gridwidth=0.5,              # Grosor de las líneas del grid\n",
    "        tickformat=\"%H:%M\",         # Formato de las etiquetas (HH:MM)\n",
    "        dtick=3600000,              # Frecuencia de las marcas en milisegundos (1 hora = 3600000 ms)\n",
    "    )\n",
    ")\n",
    "\n",
    "fig.show()\n",
    "\n"
   ]
  },
  {
   "cell_type": "markdown",
   "metadata": {},
   "source": [
    "# Yahoo finance"
   ]
  },
  {
   "cell_type": "code",
   "execution_count": 52,
   "metadata": {},
   "outputs": [
    {
     "name": "stderr",
     "output_type": "stream",
     "text": [
      "[*********************100%***********************]  1 of 1 completed"
     ]
    },
    {
     "name": "stdout",
     "output_type": "stream",
     "text": [
      "<class 'pandas.core.frame.DataFrame'>\n",
      "DatetimeIndex: 4416 entries, 2024-07-10 04:00:00+00:00 to 2025-01-10 04:00:00+00:00\n",
      "Data columns (total 5 columns):\n",
      " #   Column             Non-Null Count  Dtype  \n",
      "---  ------             --------------  -----  \n",
      " 0   (Close, BTC-USD)   4416 non-null   float64\n",
      " 1   (High, BTC-USD)    4416 non-null   float64\n",
      " 2   (Low, BTC-USD)     4416 non-null   float64\n",
      " 3   (Open, BTC-USD)    4416 non-null   float64\n",
      " 4   (Volume, BTC-USD)  4416 non-null   int64  \n",
      "dtypes: float64(4), int64(1)\n",
      "memory usage: 207.0 KB\n"
     ]
    },
    {
     "name": "stderr",
     "output_type": "stream",
     "text": [
      "\n"
     ]
    }
   ],
   "source": [
    "# yahoo finance OLH\n",
    "\n",
    "# Obtener datos de los últimos 10 días para Bitcoin\n",
    "data = yf.download(\"BTC-USD\", period=\"6mo\", interval=\"1h\")\n",
    "\n",
    "data.info()"
   ]
  },
  {
   "cell_type": "code",
   "execution_count": 53,
   "metadata": {},
   "outputs": [
    {
     "data": {
      "text/html": [
       "<div>\n",
       "<style scoped>\n",
       "    .dataframe tbody tr th:only-of-type {\n",
       "        vertical-align: middle;\n",
       "    }\n",
       "\n",
       "    .dataframe tbody tr th {\n",
       "        vertical-align: top;\n",
       "    }\n",
       "\n",
       "    .dataframe thead th {\n",
       "        text-align: right;\n",
       "    }\n",
       "</style>\n",
       "<table border=\"1\" class=\"dataframe\">\n",
       "  <thead>\n",
       "    <tr style=\"text-align: right;\">\n",
       "      <th>Price</th>\n",
       "      <th>Datetime</th>\n",
       "      <th>Close</th>\n",
       "      <th>High</th>\n",
       "      <th>Low</th>\n",
       "      <th>Open</th>\n",
       "      <th>Volume</th>\n",
       "    </tr>\n",
       "  </thead>\n",
       "  <tbody>\n",
       "    <tr>\n",
       "      <th>0</th>\n",
       "      <td>2024-07-10 04:00:00+00:00</td>\n",
       "      <td>59288.972656</td>\n",
       "      <td>59288.972656</td>\n",
       "      <td>58173.058594</td>\n",
       "      <td>58173.058594</td>\n",
       "      <td>0</td>\n",
       "    </tr>\n",
       "    <tr>\n",
       "      <th>1</th>\n",
       "      <td>2024-07-10 05:00:00+00:00</td>\n",
       "      <td>58984.777344</td>\n",
       "      <td>59359.433594</td>\n",
       "      <td>58877.207031</td>\n",
       "      <td>59323.386719</td>\n",
       "      <td>224049152</td>\n",
       "    </tr>\n",
       "    <tr>\n",
       "      <th>2</th>\n",
       "      <td>2024-07-10 06:00:00+00:00</td>\n",
       "      <td>59269.621094</td>\n",
       "      <td>59282.156250</td>\n",
       "      <td>58885.351562</td>\n",
       "      <td>58981.996094</td>\n",
       "      <td>0</td>\n",
       "    </tr>\n",
       "    <tr>\n",
       "      <th>3</th>\n",
       "      <td>2024-07-10 07:00:00+00:00</td>\n",
       "      <td>58981.941406</td>\n",
       "      <td>59256.058594</td>\n",
       "      <td>58875.925781</td>\n",
       "      <td>59256.058594</td>\n",
       "      <td>0</td>\n",
       "    </tr>\n",
       "    <tr>\n",
       "      <th>4</th>\n",
       "      <td>2024-07-10 08:00:00+00:00</td>\n",
       "      <td>58720.843750</td>\n",
       "      <td>59027.378906</td>\n",
       "      <td>58646.156250</td>\n",
       "      <td>58985.632812</td>\n",
       "      <td>0</td>\n",
       "    </tr>\n",
       "  </tbody>\n",
       "</table>\n",
       "</div>"
      ],
      "text/plain": [
       "Price                  Datetime         Close          High           Low  \\\n",
       "0     2024-07-10 04:00:00+00:00  59288.972656  59288.972656  58173.058594   \n",
       "1     2024-07-10 05:00:00+00:00  58984.777344  59359.433594  58877.207031   \n",
       "2     2024-07-10 06:00:00+00:00  59269.621094  59282.156250  58885.351562   \n",
       "3     2024-07-10 07:00:00+00:00  58981.941406  59256.058594  58875.925781   \n",
       "4     2024-07-10 08:00:00+00:00  58720.843750  59027.378906  58646.156250   \n",
       "\n",
       "Price          Open     Volume  \n",
       "0      58173.058594          0  \n",
       "1      59323.386719  224049152  \n",
       "2      58981.996094          0  \n",
       "3      59256.058594          0  \n",
       "4      58985.632812          0  "
      ]
     },
     "execution_count": 53,
     "metadata": {},
     "output_type": "execute_result"
    }
   ],
   "source": [
    "organized_df = data.copy()\n",
    "\n",
    "# Organizar columnas extraidas\n",
    "organized_df.columns = organized_df.columns.get_level_values(0)\n",
    "selected_columns = ['Close', 'High', 'Low', 'Open', 'Volume']\n",
    "organized_df = organized_df[selected_columns]\n",
    "organized_df.reset_index(inplace=True)\n",
    "organized_df.head()"
   ]
  },
  {
   "cell_type": "code",
   "execution_count": 54,
   "metadata": {},
   "outputs": [
    {
     "name": "stdout",
     "output_type": "stream",
     "text": [
      "<class 'pandas.core.frame.DataFrame'>\n",
      "RangeIndex: 4416 entries, 0 to 4415\n",
      "Data columns (total 6 columns):\n",
      " #   Column    Non-Null Count  Dtype              \n",
      "---  ------    --------------  -----              \n",
      " 0   Datetime  4416 non-null   datetime64[ns, UTC]\n",
      " 1   Close     4416 non-null   float64            \n",
      " 2   High      4416 non-null   float64            \n",
      " 3   Low       4416 non-null   float64            \n",
      " 4   Open      4416 non-null   float64            \n",
      " 5   Volume    4416 non-null   int64              \n",
      "dtypes: datetime64[ns, UTC](1), float64(4), int64(1)\n",
      "memory usage: 207.1 KB\n"
     ]
    }
   ],
   "source": [
    "organized_df.info()"
   ]
  },
  {
   "cell_type": "code",
   "execution_count": 57,
   "metadata": {},
   "outputs": [],
   "source": [
    "#Calcular MA n\n",
    "def calculate_MA(serie,n):\n",
    "    return serie.rolling(window = n).mean()\n",
    "\n",
    "def calculate_EMA(serie,n):\n",
    "    return serie.ewm(span=n, adjust=False).mean()\n",
    "\n",
    "organized_df['MA_10'] = calculate_MA(organized_df['Close'],10)\n",
    "organized_df['MA_20'] = calculate_MA(organized_df['Close'],20)\n",
    "organized_df['EMA_20'] = calculate_EMA(organized_df['Close'],20)"
   ]
  },
  {
   "cell_type": "code",
   "execution_count": 58,
   "metadata": {},
   "outputs": [
    {
     "data": {
      "application/vnd.plotly.v1+json": {
       "config": {
        "plotlyServerURL": "https://plot.ly"
       },
       "data": [
        {
         "close": [
          98650.71875,
          98780.5390625,
          99005.15625,
          99435.40625,
          99609.3515625,
          99537.5703125,
          99292.6171875,
          99060.21875,
          98956.34375,
          98721.34375,
          99218.109375,
          99127.046875,
          99478.171875,
          100921.5546875,
          102174.2265625,
          102157.2421875,
          101832.2265625,
          101884,
          101854.2421875,
          102102.734375,
          101639.0625,
          102077.3671875,
          102228.5078125,
          102081.640625,
          101947.421875,
          101724.9453125,
          101742.0390625,
          101742.2734375,
          101750.328125,
          101826.7578125,
          101686.375,
          101906.2265625,
          101755.0546875,
          101430.9765625,
          100897.8203125,
          100747.6171875,
          100655.0703125,
          99929.6484375,
          97960.390625,
          97800.84375,
          97262.21875,
          96701.2890625,
          96496.671875,
          96440.1328125,
          96613.1015625,
          97092.2734375,
          96936.1875,
          97216.3203125,
          96858.0859375,
          96920.1328125,
          96480.5703125,
          96214.8984375,
          96483.859375,
          95294.0703125,
          95692.390625,
          95939.7265625,
          95549.515625,
          95919.734375,
          95161.71875,
          94857.25,
          95385.0625,
          95245.234375,
          95359.8984375,
          94741.9609375,
          93927.953125,
          94212.6796875,
          94258.359375,
          93937.09375,
          94468.34375,
          95233.4375,
          95038.3125,
          95094.15625,
          94951.859375,
          94650.4765625,
          94026.609375,
          94443.2734375,
          94431.6015625,
          94059.265625,
          93219.71875,
          92945.7109375,
          93497.9921875,
          93391.9140625,
          93409.7109375,
          93349.6953125,
          92103.4140625,
          92699.453125,
          94250.75,
          94192.7421875,
          92792.5390625,
          93066.9140625,
          92068.375,
          92116.2890625,
          92068.65625,
          92600.2890625,
          92480.140625,
          92773.15625,
          93083.6484375,
          93378.046875,
          93696.375,
          93582.1640625
         ],
         "high": [
          98701.9375,
          99229.3984375,
          99167.1640625,
          99435.40625,
          99849.1171875,
          99702.453125,
          99496.4140625,
          99538.5703125,
          99202.140625,
          98994.1796875,
          99323.046875,
          99640.2890625,
          99539.2578125,
          101063.9453125,
          102408.3984375,
          102464.4375,
          102163.859375,
          102062.359375,
          102067.8359375,
          102328.90625,
          102356.6875,
          102082.3671875,
          102253.1953125,
          102674.328125,
          102090.1171875,
          102044.0546875,
          101816.46875,
          101930.7578125,
          101783.8671875,
          101902.703125,
          102014.3046875,
          101966.5390625,
          101905.40625,
          101715.09375,
          101446.4140625,
          100911.890625,
          100926.84375,
          100824.2734375,
          99968.2734375,
          98232.96875,
          97724.625,
          97449.09375,
          97129.4453125,
          96698.328125,
          97021.53125,
          97157.296875,
          97145.6015625,
          97216.3203125,
          97247.40625,
          97119.140625,
          96868.2578125,
          96579.1328125,
          96599.8125,
          96591.0703125,
          95743.3203125,
          96082.1875,
          96065.3125,
          95919.734375,
          95998.890625,
          95312.0234375,
          95605.4296875,
          95781.140625,
          95889.078125,
          95453,
          94774.421875,
          94980.6171875,
          94822.9921875,
          94367.2890625,
          94495.765625,
          95233.4375,
          95240.296875,
          95094.15625,
          95314.75,
          94979.953125,
          94739.015625,
          94443.2734375,
          94500.8828125,
          94544.5,
          94256.7265625,
          93332.078125,
          93654.6328125,
          93600.2421875,
          93719.9765625,
          93638.203125,
          93429.3046875,
          92699.453125,
          94380.671875,
          94547.3515625,
          94244.796875,
          93145.71875,
          93272.3984375,
          92213.171875,
          92436,
          92666.2734375,
          92628.7890625,
          92815.3125,
          93114.1328125,
          93607.5390625,
          93696.375,
          93851
         ],
         "low": [
          97959.1953125,
          98699.7265625,
          98753.8125,
          99141.640625,
          99389.2109375,
          99444.8046875,
          99205.859375,
          99015.7421875,
          98954.9296875,
          98717.2265625,
          98738.6953125,
          99127.046875,
          98878.5546875,
          98775.3515625,
          100588.3203125,
          101793.6875,
          101394.265625,
          101694.5390625,
          101746.0703125,
          101897.7734375,
          101639.0625,
          101646.9765625,
          101947.890625,
          102057.421875,
          101756.640625,
          101723.09375,
          101592.6953125,
          101742.2734375,
          101649.6484375,
          101677.96875,
          101661.171875,
          101663.9921875,
          101642.796875,
          101398.796875,
          100501.9765625,
          100643.9765625,
          100648.5546875,
          99929.6484375,
          97473.9140625,
          97661.0390625,
          96927.3984375,
          96595.2265625,
          96370.53125,
          96162.7109375,
          96420.1015625,
          96436.3984375,
          96834.7421875,
          96706.765625,
          96612.359375,
          96783.4296875,
          96250.2421875,
          96121.3359375,
          96111.2734375,
          95280.71875,
          95263.8125,
          95495.3828125,
          95549.515625,
          95421.953125,
          94632.4609375,
          94857.25,
          94853.5859375,
          95035.40625,
          94706.8046875,
          94559.5625,
          92822.0234375,
          93837.03125,
          94116.8203125,
          93771.5390625,
          93718.109375,
          94456.9375,
          94906.6484375,
          94810.03125,
          94951.859375,
          93625.15625,
          94026.609375,
          93774.0703125,
          94253.984375,
          94025.6875,
          93217.7265625,
          92812.9453125,
          92974.6015625,
          93025.1796875,
          93307.984375,
          93189.25,
          92005.5078125,
          91826.828125,
          92681.546875,
          93851.25,
          92343.7421875,
          92440.96875,
          92068.375,
          91232.859375,
          91902.5078125,
          91700.2578125,
          92105.4921875,
          92495.1875,
          92619.0859375,
          93051.796875,
          93370.078125,
          93547.8046875
         ],
         "open": [
          98218.5234375,
          98717.9609375,
          98791.4765625,
          99141.640625,
          99418.9765625,
          99567.5625,
          99489.3046875,
          99288,
          99025.84375,
          98994.1796875,
          98760.796875,
          99254.328125,
          99171.3828125,
          99477.28125,
          100717.265625,
          102136.3203125,
          102163.859375,
          101801.3203125,
          101829.9375,
          101897.7734375,
          102258.6875,
          101672.6328125,
          102045.46875,
          102247.3359375,
          102090.1171875,
          101973.15625,
          101710.2421875,
          101769.0546875,
          101704.46875,
          101743.1796875,
          101824.2578125,
          101712.2734375,
          101905.40625,
          101715.09375,
          101408.03125,
          100831.9921875,
          100743.0234375,
          100641.53125,
          99968.2734375,
          97914.8671875,
          97717.453125,
          97235.484375,
          96710.1484375,
          96411.046875,
          96437.359375,
          96495.6484375,
          97142.0625,
          96938.7734375,
          97247.40625,
          96884.671875,
          96868.2578125,
          96508.4296875,
          96255.421875,
          96473.109375,
          95263.8125,
          95644.8359375,
          95920.640625,
          95421.953125,
          95930.1875,
          95100.9375,
          94853.5859375,
          95386.1953125,
          95292.9609375,
          95453,
          94743.3984375,
          94027.75,
          94236.3671875,
          94219.859375,
          93933.6171875,
          94456.9375,
          95240.296875,
          95038.078125,
          95106.0234375,
          94979.953125,
          94739.015625,
          93990.734375,
          94374.2578125,
          94422.2265625,
          94053.6328125,
          93208.5546875,
          92974.6015625,
          93480.28125,
          93394.0625,
          93415.1328125,
          93345.84375,
          91900.65625,
          92827.40625,
          94207.0234375,
          94228.078125,
          92659.328125,
          93017.78125,
          91937.265625,
          92070.5,
          92100.03125,
          92451.8828125,
          92529.9921875,
          92739.2734375,
          93097.3984375,
          93373.28125,
          93701.765625
         ],
         "type": "candlestick",
         "x": [
          "2025-01-06T01:00:00+00:00",
          "2025-01-06T02:00:00+00:00",
          "2025-01-06T03:00:00+00:00",
          "2025-01-06T04:00:00+00:00",
          "2025-01-06T05:00:00+00:00",
          "2025-01-06T06:00:00+00:00",
          "2025-01-06T07:00:00+00:00",
          "2025-01-06T08:00:00+00:00",
          "2025-01-06T09:00:00+00:00",
          "2025-01-06T10:00:00+00:00",
          "2025-01-06T11:00:00+00:00",
          "2025-01-06T12:00:00+00:00",
          "2025-01-06T13:00:00+00:00",
          "2025-01-06T14:00:00+00:00",
          "2025-01-06T15:00:00+00:00",
          "2025-01-06T16:00:00+00:00",
          "2025-01-06T17:00:00+00:00",
          "2025-01-06T18:00:00+00:00",
          "2025-01-06T19:00:00+00:00",
          "2025-01-06T20:00:00+00:00",
          "2025-01-06T21:00:00+00:00",
          "2025-01-06T22:00:00+00:00",
          "2025-01-06T23:00:00+00:00",
          "2025-01-07T00:00:00+00:00",
          "2025-01-07T01:00:00+00:00",
          "2025-01-07T02:00:00+00:00",
          "2025-01-07T03:00:00+00:00",
          "2025-01-07T04:00:00+00:00",
          "2025-01-07T05:00:00+00:00",
          "2025-01-07T06:00:00+00:00",
          "2025-01-07T07:00:00+00:00",
          "2025-01-07T08:00:00+00:00",
          "2025-01-07T09:00:00+00:00",
          "2025-01-07T10:00:00+00:00",
          "2025-01-07T11:00:00+00:00",
          "2025-01-07T12:00:00+00:00",
          "2025-01-07T13:00:00+00:00",
          "2025-01-07T14:00:00+00:00",
          "2025-01-07T15:00:00+00:00",
          "2025-01-07T16:00:00+00:00",
          "2025-01-07T17:00:00+00:00",
          "2025-01-07T18:00:00+00:00",
          "2025-01-07T19:00:00+00:00",
          "2025-01-07T20:00:00+00:00",
          "2025-01-07T21:00:00+00:00",
          "2025-01-07T22:00:00+00:00",
          "2025-01-07T23:00:00+00:00",
          "2025-01-08T00:00:00+00:00",
          "2025-01-08T01:00:00+00:00",
          "2025-01-08T02:00:00+00:00",
          "2025-01-08T03:00:00+00:00",
          "2025-01-08T04:00:00+00:00",
          "2025-01-08T05:00:00+00:00",
          "2025-01-08T06:00:00+00:00",
          "2025-01-08T07:00:00+00:00",
          "2025-01-08T08:00:00+00:00",
          "2025-01-08T09:00:00+00:00",
          "2025-01-08T10:00:00+00:00",
          "2025-01-08T11:00:00+00:00",
          "2025-01-08T12:00:00+00:00",
          "2025-01-08T13:00:00+00:00",
          "2025-01-08T14:00:00+00:00",
          "2025-01-08T15:00:00+00:00",
          "2025-01-08T16:00:00+00:00",
          "2025-01-08T17:00:00+00:00",
          "2025-01-08T18:00:00+00:00",
          "2025-01-08T19:00:00+00:00",
          "2025-01-08T20:00:00+00:00",
          "2025-01-08T21:00:00+00:00",
          "2025-01-08T22:00:00+00:00",
          "2025-01-08T23:00:00+00:00",
          "2025-01-09T00:00:00+00:00",
          "2025-01-09T01:00:00+00:00",
          "2025-01-09T02:00:00+00:00",
          "2025-01-09T03:00:00+00:00",
          "2025-01-09T04:00:00+00:00",
          "2025-01-09T05:00:00+00:00",
          "2025-01-09T06:00:00+00:00",
          "2025-01-09T07:00:00+00:00",
          "2025-01-09T08:00:00+00:00",
          "2025-01-09T09:00:00+00:00",
          "2025-01-09T10:00:00+00:00",
          "2025-01-09T11:00:00+00:00",
          "2025-01-09T12:00:00+00:00",
          "2025-01-09T13:00:00+00:00",
          "2025-01-09T14:00:00+00:00",
          "2025-01-09T15:00:00+00:00",
          "2025-01-09T16:00:00+00:00",
          "2025-01-09T17:00:00+00:00",
          "2025-01-09T18:00:00+00:00",
          "2025-01-09T19:00:00+00:00",
          "2025-01-09T20:00:00+00:00",
          "2025-01-09T21:00:00+00:00",
          "2025-01-09T22:00:00+00:00",
          "2025-01-09T23:00:00+00:00",
          "2025-01-10T00:00:00+00:00",
          "2025-01-10T01:00:00+00:00",
          "2025-01-10T02:00:00+00:00",
          "2025-01-10T03:00:00+00:00",
          "2025-01-10T04:00:00+00:00"
         ]
        },
        {
         "mode": "lines",
         "name": "Media Móvil (10 períodos)",
         "type": "scatter",
         "x": [
          "2025-01-06T01:00:00+00:00",
          "2025-01-06T02:00:00+00:00",
          "2025-01-06T03:00:00+00:00",
          "2025-01-06T04:00:00+00:00",
          "2025-01-06T05:00:00+00:00",
          "2025-01-06T06:00:00+00:00",
          "2025-01-06T07:00:00+00:00",
          "2025-01-06T08:00:00+00:00",
          "2025-01-06T09:00:00+00:00",
          "2025-01-06T10:00:00+00:00",
          "2025-01-06T11:00:00+00:00",
          "2025-01-06T12:00:00+00:00",
          "2025-01-06T13:00:00+00:00",
          "2025-01-06T14:00:00+00:00",
          "2025-01-06T15:00:00+00:00",
          "2025-01-06T16:00:00+00:00",
          "2025-01-06T17:00:00+00:00",
          "2025-01-06T18:00:00+00:00",
          "2025-01-06T19:00:00+00:00",
          "2025-01-06T20:00:00+00:00",
          "2025-01-06T21:00:00+00:00",
          "2025-01-06T22:00:00+00:00",
          "2025-01-06T23:00:00+00:00",
          "2025-01-07T00:00:00+00:00",
          "2025-01-07T01:00:00+00:00",
          "2025-01-07T02:00:00+00:00",
          "2025-01-07T03:00:00+00:00",
          "2025-01-07T04:00:00+00:00",
          "2025-01-07T05:00:00+00:00",
          "2025-01-07T06:00:00+00:00",
          "2025-01-07T07:00:00+00:00",
          "2025-01-07T08:00:00+00:00",
          "2025-01-07T09:00:00+00:00",
          "2025-01-07T10:00:00+00:00",
          "2025-01-07T11:00:00+00:00",
          "2025-01-07T12:00:00+00:00",
          "2025-01-07T13:00:00+00:00",
          "2025-01-07T14:00:00+00:00",
          "2025-01-07T15:00:00+00:00",
          "2025-01-07T16:00:00+00:00",
          "2025-01-07T17:00:00+00:00",
          "2025-01-07T18:00:00+00:00",
          "2025-01-07T19:00:00+00:00",
          "2025-01-07T20:00:00+00:00",
          "2025-01-07T21:00:00+00:00",
          "2025-01-07T22:00:00+00:00",
          "2025-01-07T23:00:00+00:00",
          "2025-01-08T00:00:00+00:00",
          "2025-01-08T01:00:00+00:00",
          "2025-01-08T02:00:00+00:00",
          "2025-01-08T03:00:00+00:00",
          "2025-01-08T04:00:00+00:00",
          "2025-01-08T05:00:00+00:00",
          "2025-01-08T06:00:00+00:00",
          "2025-01-08T07:00:00+00:00",
          "2025-01-08T08:00:00+00:00",
          "2025-01-08T09:00:00+00:00",
          "2025-01-08T10:00:00+00:00",
          "2025-01-08T11:00:00+00:00",
          "2025-01-08T12:00:00+00:00",
          "2025-01-08T13:00:00+00:00",
          "2025-01-08T14:00:00+00:00",
          "2025-01-08T15:00:00+00:00",
          "2025-01-08T16:00:00+00:00",
          "2025-01-08T17:00:00+00:00",
          "2025-01-08T18:00:00+00:00",
          "2025-01-08T19:00:00+00:00",
          "2025-01-08T20:00:00+00:00",
          "2025-01-08T21:00:00+00:00",
          "2025-01-08T22:00:00+00:00",
          "2025-01-08T23:00:00+00:00",
          "2025-01-09T00:00:00+00:00",
          "2025-01-09T01:00:00+00:00",
          "2025-01-09T02:00:00+00:00",
          "2025-01-09T03:00:00+00:00",
          "2025-01-09T04:00:00+00:00",
          "2025-01-09T05:00:00+00:00",
          "2025-01-09T06:00:00+00:00",
          "2025-01-09T07:00:00+00:00",
          "2025-01-09T08:00:00+00:00",
          "2025-01-09T09:00:00+00:00",
          "2025-01-09T10:00:00+00:00",
          "2025-01-09T11:00:00+00:00",
          "2025-01-09T12:00:00+00:00",
          "2025-01-09T13:00:00+00:00",
          "2025-01-09T14:00:00+00:00",
          "2025-01-09T15:00:00+00:00",
          "2025-01-09T16:00:00+00:00",
          "2025-01-09T17:00:00+00:00",
          "2025-01-09T18:00:00+00:00",
          "2025-01-09T19:00:00+00:00",
          "2025-01-09T20:00:00+00:00",
          "2025-01-09T21:00:00+00:00",
          "2025-01-09T22:00:00+00:00",
          "2025-01-09T23:00:00+00:00",
          "2025-01-10T00:00:00+00:00",
          "2025-01-10T01:00:00+00:00",
          "2025-01-10T02:00:00+00:00",
          "2025-01-10T03:00:00+00:00",
          "2025-01-10T04:00:00+00:00"
         ],
         "y": [
          98221.53046875,
          98298.5765625,
          98430.03671875,
          98583.65390625,
          98741.66328125,
          98871.8796875,
          98951.03828125,
          98990.94296875,
          99054.6109375,
          99104.9265625,
          99161.665625,
          99196.31640625,
          99243.61796875,
          99392.2328125,
          99648.7203125,
          99910.6875,
          100164.6484375,
          100447.0265625,
          100736.81640625,
          101074.95546875,
          101317.05078125,
          101612.0828125,
          101887.11640625,
          102003.125,
          101980.44453125,
          101937.21484375,
          101928.19609375,
          101914.0234375,
          101903.63203125,
          101876.034375,
          101880.765625,
          101863.6515625,
          101816.30625,
          101751.23984375,
          101646.2796875,
          101548.546875,
          101439.85,
          101258.5875,
          100879.59375,
          100477.00234375,
          100034.58671875,
          99514.09296875,
          98988.2546875,
          98489.1703125,
          98060.6984375,
          97695.1640625,
          97323.27578125,
          97051.94296875,
          96941.7125,
          96853.64140625,
          96775.4765625,
          96726.8375,
          96725.55625,
          96610.95,
          96518.87890625,
          96403.62421875,
          96264.95703125,
          96135.2984375,
          95965.66171875,
          95759.3734375,
          95649.82265625,
          95552.85625,
          95440.46015625,
          95385.24921875,
          95208.80546875,
          95036.10078125,
          94906.98515625,
          94708.72109375,
          94639.38359375,
          94677.00234375,
          94642.32734375,
          94627.21953125,
          94586.415625,
          94577.2671875,
          94587.1328125,
          94610.1921875,
          94627.51640625,
          94639.73359375,
          94514.87109375,
          94286.0984375,
          94132.06640625,
          93961.8421875,
          93807.62734375,
          93677.54921875,
          93485.2296875,
          93310.84765625,
          93292.7625,
          93306.11015625,
          93263.3921875,
          93275.5125,
          93132.55078125,
          93004.98828125,
          92870.8828125,
          92795.9421875,
          92833.61484375,
          92840.98515625,
          92724.275,
          92642.80546875,
          92733.1890625,
          92784.7140625
         ]
        },
        {
         "mode": "lines",
         "name": "Media Móvil (20 períodos)",
         "type": "scatter",
         "x": [
          "2025-01-06T01:00:00+00:00",
          "2025-01-06T02:00:00+00:00",
          "2025-01-06T03:00:00+00:00",
          "2025-01-06T04:00:00+00:00",
          "2025-01-06T05:00:00+00:00",
          "2025-01-06T06:00:00+00:00",
          "2025-01-06T07:00:00+00:00",
          "2025-01-06T08:00:00+00:00",
          "2025-01-06T09:00:00+00:00",
          "2025-01-06T10:00:00+00:00",
          "2025-01-06T11:00:00+00:00",
          "2025-01-06T12:00:00+00:00",
          "2025-01-06T13:00:00+00:00",
          "2025-01-06T14:00:00+00:00",
          "2025-01-06T15:00:00+00:00",
          "2025-01-06T16:00:00+00:00",
          "2025-01-06T17:00:00+00:00",
          "2025-01-06T18:00:00+00:00",
          "2025-01-06T19:00:00+00:00",
          "2025-01-06T20:00:00+00:00",
          "2025-01-06T21:00:00+00:00",
          "2025-01-06T22:00:00+00:00",
          "2025-01-06T23:00:00+00:00",
          "2025-01-07T00:00:00+00:00",
          "2025-01-07T01:00:00+00:00",
          "2025-01-07T02:00:00+00:00",
          "2025-01-07T03:00:00+00:00",
          "2025-01-07T04:00:00+00:00",
          "2025-01-07T05:00:00+00:00",
          "2025-01-07T06:00:00+00:00",
          "2025-01-07T07:00:00+00:00",
          "2025-01-07T08:00:00+00:00",
          "2025-01-07T09:00:00+00:00",
          "2025-01-07T10:00:00+00:00",
          "2025-01-07T11:00:00+00:00",
          "2025-01-07T12:00:00+00:00",
          "2025-01-07T13:00:00+00:00",
          "2025-01-07T14:00:00+00:00",
          "2025-01-07T15:00:00+00:00",
          "2025-01-07T16:00:00+00:00",
          "2025-01-07T17:00:00+00:00",
          "2025-01-07T18:00:00+00:00",
          "2025-01-07T19:00:00+00:00",
          "2025-01-07T20:00:00+00:00",
          "2025-01-07T21:00:00+00:00",
          "2025-01-07T22:00:00+00:00",
          "2025-01-07T23:00:00+00:00",
          "2025-01-08T00:00:00+00:00",
          "2025-01-08T01:00:00+00:00",
          "2025-01-08T02:00:00+00:00",
          "2025-01-08T03:00:00+00:00",
          "2025-01-08T04:00:00+00:00",
          "2025-01-08T05:00:00+00:00",
          "2025-01-08T06:00:00+00:00",
          "2025-01-08T07:00:00+00:00",
          "2025-01-08T08:00:00+00:00",
          "2025-01-08T09:00:00+00:00",
          "2025-01-08T10:00:00+00:00",
          "2025-01-08T11:00:00+00:00",
          "2025-01-08T12:00:00+00:00",
          "2025-01-08T13:00:00+00:00",
          "2025-01-08T14:00:00+00:00",
          "2025-01-08T15:00:00+00:00",
          "2025-01-08T16:00:00+00:00",
          "2025-01-08T17:00:00+00:00",
          "2025-01-08T18:00:00+00:00",
          "2025-01-08T19:00:00+00:00",
          "2025-01-08T20:00:00+00:00",
          "2025-01-08T21:00:00+00:00",
          "2025-01-08T22:00:00+00:00",
          "2025-01-08T23:00:00+00:00",
          "2025-01-09T00:00:00+00:00",
          "2025-01-09T01:00:00+00:00",
          "2025-01-09T02:00:00+00:00",
          "2025-01-09T03:00:00+00:00",
          "2025-01-09T04:00:00+00:00",
          "2025-01-09T05:00:00+00:00",
          "2025-01-09T06:00:00+00:00",
          "2025-01-09T07:00:00+00:00",
          "2025-01-09T08:00:00+00:00",
          "2025-01-09T09:00:00+00:00",
          "2025-01-09T10:00:00+00:00",
          "2025-01-09T11:00:00+00:00",
          "2025-01-09T12:00:00+00:00",
          "2025-01-09T13:00:00+00:00",
          "2025-01-09T14:00:00+00:00",
          "2025-01-09T15:00:00+00:00",
          "2025-01-09T16:00:00+00:00",
          "2025-01-09T17:00:00+00:00",
          "2025-01-09T18:00:00+00:00",
          "2025-01-09T19:00:00+00:00",
          "2025-01-09T20:00:00+00:00",
          "2025-01-09T21:00:00+00:00",
          "2025-01-09T22:00:00+00:00",
          "2025-01-09T23:00:00+00:00",
          "2025-01-10T00:00:00+00:00",
          "2025-01-10T01:00:00+00:00",
          "2025-01-10T02:00:00+00:00",
          "2025-01-10T03:00:00+00:00",
          "2025-01-10T04:00:00+00:00"
         ],
         "y": [
          98055.3359375,
          98072.09921875,
          98108.85390625,
          98190.241796875,
          98286.930859375,
          98378.488671875,
          98461.71171875,
          98524.337890625,
          98586.717578125,
          98631,
          98691.598046875,
          98747.446484375,
          98836.82734375,
          98987.943359375,
          99195.191796875,
          99391.28359375,
          99557.843359375,
          99718.984765625,
          99895.713671875,
          100089.941015625,
          100239.358203125,
          100404.199609375,
          100565.3671875,
          100697.67890625,
          100814.582421875,
          100923.951171875,
          101046.422265625,
          101180.525,
          101320.22421875,
          101475.494921875,
          101598.908203125,
          101737.8671875,
          101851.711328125,
          101877.182421875,
          101813.362109375,
          101742.880859375,
          101684.023046875,
          101586.30546875,
          101391.612890625,
          101176.518359375,
          100957.676171875,
          100688.872265625,
          100402.28046875,
          100120.205078125,
          99853.4890625,
          99621.85546875,
          99381.562890625,
          99155.265234375,
          98910.653125,
          98665.321875,
          98405.031640625,
          98120.465234375,
          97856.90546875,
          97550.06015625,
          97289.788671875,
          97049.394140625,
          96794.11640625,
          96593.620703125,
          96453.687109375,
          96306.507421875,
          96212.649609375,
          96139.846875,
          96083.008203125,
          95998.099609375,
          95863.8421875,
          95719.8625,
          95585.97109375,
          95422.009765625,
          95302.52265625,
          95218.187890625,
          95146.075,
          95090.037890625,
          95013.437890625,
          94981.258203125,
          94897.969140625,
          94823.146484375,
          94767.25078125,
          94674.22734375,
          94577.12734375,
          94481.550390625,
          94387.196875,
          94294.530859375,
          94197.021484375,
          94127.408203125,
          94036.18125,
          93960.519921875,
          93960.139453125,
          93972.921875,
          93889.131640625,
          93780.80546875,
          93632.30859375,
          93483.415234375,
          93339.255078125,
          93236.745703125,
          93159.422265625,
          93075.91640625,
          93008.51875,
          92974.4578125,
          92998.290625,
          93030.11328125
         ]
        },
        {
         "mode": "lines",
         "name": "Media Móvil Exp (20 períodos)",
         "type": "scatter",
         "x": [
          "2025-01-06T01:00:00+00:00",
          "2025-01-06T02:00:00+00:00",
          "2025-01-06T03:00:00+00:00",
          "2025-01-06T04:00:00+00:00",
          "2025-01-06T05:00:00+00:00",
          "2025-01-06T06:00:00+00:00",
          "2025-01-06T07:00:00+00:00",
          "2025-01-06T08:00:00+00:00",
          "2025-01-06T09:00:00+00:00",
          "2025-01-06T10:00:00+00:00",
          "2025-01-06T11:00:00+00:00",
          "2025-01-06T12:00:00+00:00",
          "2025-01-06T13:00:00+00:00",
          "2025-01-06T14:00:00+00:00",
          "2025-01-06T15:00:00+00:00",
          "2025-01-06T16:00:00+00:00",
          "2025-01-06T17:00:00+00:00",
          "2025-01-06T18:00:00+00:00",
          "2025-01-06T19:00:00+00:00",
          "2025-01-06T20:00:00+00:00",
          "2025-01-06T21:00:00+00:00",
          "2025-01-06T22:00:00+00:00",
          "2025-01-06T23:00:00+00:00",
          "2025-01-07T00:00:00+00:00",
          "2025-01-07T01:00:00+00:00",
          "2025-01-07T02:00:00+00:00",
          "2025-01-07T03:00:00+00:00",
          "2025-01-07T04:00:00+00:00",
          "2025-01-07T05:00:00+00:00",
          "2025-01-07T06:00:00+00:00",
          "2025-01-07T07:00:00+00:00",
          "2025-01-07T08:00:00+00:00",
          "2025-01-07T09:00:00+00:00",
          "2025-01-07T10:00:00+00:00",
          "2025-01-07T11:00:00+00:00",
          "2025-01-07T12:00:00+00:00",
          "2025-01-07T13:00:00+00:00",
          "2025-01-07T14:00:00+00:00",
          "2025-01-07T15:00:00+00:00",
          "2025-01-07T16:00:00+00:00",
          "2025-01-07T17:00:00+00:00",
          "2025-01-07T18:00:00+00:00",
          "2025-01-07T19:00:00+00:00",
          "2025-01-07T20:00:00+00:00",
          "2025-01-07T21:00:00+00:00",
          "2025-01-07T22:00:00+00:00",
          "2025-01-07T23:00:00+00:00",
          "2025-01-08T00:00:00+00:00",
          "2025-01-08T01:00:00+00:00",
          "2025-01-08T02:00:00+00:00",
          "2025-01-08T03:00:00+00:00",
          "2025-01-08T04:00:00+00:00",
          "2025-01-08T05:00:00+00:00",
          "2025-01-08T06:00:00+00:00",
          "2025-01-08T07:00:00+00:00",
          "2025-01-08T08:00:00+00:00",
          "2025-01-08T09:00:00+00:00",
          "2025-01-08T10:00:00+00:00",
          "2025-01-08T11:00:00+00:00",
          "2025-01-08T12:00:00+00:00",
          "2025-01-08T13:00:00+00:00",
          "2025-01-08T14:00:00+00:00",
          "2025-01-08T15:00:00+00:00",
          "2025-01-08T16:00:00+00:00",
          "2025-01-08T17:00:00+00:00",
          "2025-01-08T18:00:00+00:00",
          "2025-01-08T19:00:00+00:00",
          "2025-01-08T20:00:00+00:00",
          "2025-01-08T21:00:00+00:00",
          "2025-01-08T22:00:00+00:00",
          "2025-01-08T23:00:00+00:00",
          "2025-01-09T00:00:00+00:00",
          "2025-01-09T01:00:00+00:00",
          "2025-01-09T02:00:00+00:00",
          "2025-01-09T03:00:00+00:00",
          "2025-01-09T04:00:00+00:00",
          "2025-01-09T05:00:00+00:00",
          "2025-01-09T06:00:00+00:00",
          "2025-01-09T07:00:00+00:00",
          "2025-01-09T08:00:00+00:00",
          "2025-01-09T09:00:00+00:00",
          "2025-01-09T10:00:00+00:00",
          "2025-01-09T11:00:00+00:00",
          "2025-01-09T12:00:00+00:00",
          "2025-01-09T13:00:00+00:00",
          "2025-01-09T14:00:00+00:00",
          "2025-01-09T15:00:00+00:00",
          "2025-01-09T16:00:00+00:00",
          "2025-01-09T17:00:00+00:00",
          "2025-01-09T18:00:00+00:00",
          "2025-01-09T19:00:00+00:00",
          "2025-01-09T20:00:00+00:00",
          "2025-01-09T21:00:00+00:00",
          "2025-01-09T22:00:00+00:00",
          "2025-01-09T23:00:00+00:00",
          "2025-01-10T00:00:00+00:00",
          "2025-01-10T01:00:00+00:00",
          "2025-01-10T02:00:00+00:00",
          "2025-01-10T03:00:00+00:00",
          "2025-01-10T04:00:00+00:00"
         ],
         "y": [
          98167.38913718806,
          98225.78436817015,
          98300.01026167776,
          98408.14321294654,
          98522.54400814211,
          98619.21317998572,
          98683.34689498707,
          98719.23945260736,
          98741.8208142638,
          98739.87061766726,
          98785.41716598466,
          98817.95332874803,
          98880.83128553393,
          99075.18589524498,
          99370.33262545975,
          99635.7525837493,
          99844.94058172556,
          100039.13671679932,
          100212.0039044851,
          100392.07347310556,
          100510.83433280978,
          100660.02793801838,
          100809.40697368329,
          100930.5720833325,
          101027.41492063417,
          101093.84638652616,
          101155.57902233319,
          101211.45468092049,
          101262.77596130903,
          101316.48851856531,
          101351.71580251148,
          101404.52635108182,
          101437.91000216926,
          101437.2496745817,
          101385.87544962154,
          101325.0889484671,
          101261.27764980358,
          101134.45582006038,
          100832.1638967213,
          100543.46673989069,
          100230.96693132966,
          99894.80713429826,
          99571.17520484127,
          99272.98069128496,
          99019.65886949592,
          98836.09835216298,
          98655.1544614808,
          98518.12263776835,
          98360.02390440946,
          98222.8914194657,
          98056.95607594516,
          97881.52201514086,
          97748.4112875084,
          97514.66452798378,
          97341.11463246153,
          97207.649101989,
          97049.73162799004,
          96942.112841991,
          96772.55149989661,
          96590.14183323979,
          96475.37237293125,
          96358.21637312826,
          96263.138474497,
          96118.26442335443,
          95909.66334732067,
          95748.0458559092,
          95606.17095296546,
          95447.2112193497,
          95353.9857460783,
          95342.50496073751,
          95313.53425019108,
          95292.64110731575,
          95260.18570423806,
          95202.11816692966,
          95090.16494865064,
          95028.55623330295,
          94971.70340751219,
          94884.80457108247,
          94726.22496907461,
          94556.65220416275,
          94455.82744067107,
          94354.50235703573,
          94264.52222184185,
          94177.39584952359,
          93979.87377456896,
          93857.92895080049,
          93895.34047929569,
          93923.66445150563,
          93815.93822398128,
          93744.6025895545,
          93584.96186673979,
          93445.08826633601,
          93313.99950287543,
          93246.02707998254,
          93173.08551284135,
          93134.99701161837,
          93130.10667122614,
          93153.7200239665,
          93205.4014502554,
          93241.2836038025
         ]
        }
       ],
       "layout": {
        "template": {
         "data": {
          "bar": [
           {
            "error_x": {
             "color": "#2a3f5f"
            },
            "error_y": {
             "color": "#2a3f5f"
            },
            "marker": {
             "line": {
              "color": "#E5ECF6",
              "width": 0.5
             },
             "pattern": {
              "fillmode": "overlay",
              "size": 10,
              "solidity": 0.2
             }
            },
            "type": "bar"
           }
          ],
          "barpolar": [
           {
            "marker": {
             "line": {
              "color": "#E5ECF6",
              "width": 0.5
             },
             "pattern": {
              "fillmode": "overlay",
              "size": 10,
              "solidity": 0.2
             }
            },
            "type": "barpolar"
           }
          ],
          "carpet": [
           {
            "aaxis": {
             "endlinecolor": "#2a3f5f",
             "gridcolor": "white",
             "linecolor": "white",
             "minorgridcolor": "white",
             "startlinecolor": "#2a3f5f"
            },
            "baxis": {
             "endlinecolor": "#2a3f5f",
             "gridcolor": "white",
             "linecolor": "white",
             "minorgridcolor": "white",
             "startlinecolor": "#2a3f5f"
            },
            "type": "carpet"
           }
          ],
          "choropleth": [
           {
            "colorbar": {
             "outlinewidth": 0,
             "ticks": ""
            },
            "type": "choropleth"
           }
          ],
          "contour": [
           {
            "colorbar": {
             "outlinewidth": 0,
             "ticks": ""
            },
            "colorscale": [
             [
              0,
              "#0d0887"
             ],
             [
              0.1111111111111111,
              "#46039f"
             ],
             [
              0.2222222222222222,
              "#7201a8"
             ],
             [
              0.3333333333333333,
              "#9c179e"
             ],
             [
              0.4444444444444444,
              "#bd3786"
             ],
             [
              0.5555555555555556,
              "#d8576b"
             ],
             [
              0.6666666666666666,
              "#ed7953"
             ],
             [
              0.7777777777777778,
              "#fb9f3a"
             ],
             [
              0.8888888888888888,
              "#fdca26"
             ],
             [
              1,
              "#f0f921"
             ]
            ],
            "type": "contour"
           }
          ],
          "contourcarpet": [
           {
            "colorbar": {
             "outlinewidth": 0,
             "ticks": ""
            },
            "type": "contourcarpet"
           }
          ],
          "heatmap": [
           {
            "colorbar": {
             "outlinewidth": 0,
             "ticks": ""
            },
            "colorscale": [
             [
              0,
              "#0d0887"
             ],
             [
              0.1111111111111111,
              "#46039f"
             ],
             [
              0.2222222222222222,
              "#7201a8"
             ],
             [
              0.3333333333333333,
              "#9c179e"
             ],
             [
              0.4444444444444444,
              "#bd3786"
             ],
             [
              0.5555555555555556,
              "#d8576b"
             ],
             [
              0.6666666666666666,
              "#ed7953"
             ],
             [
              0.7777777777777778,
              "#fb9f3a"
             ],
             [
              0.8888888888888888,
              "#fdca26"
             ],
             [
              1,
              "#f0f921"
             ]
            ],
            "type": "heatmap"
           }
          ],
          "heatmapgl": [
           {
            "colorbar": {
             "outlinewidth": 0,
             "ticks": ""
            },
            "colorscale": [
             [
              0,
              "#0d0887"
             ],
             [
              0.1111111111111111,
              "#46039f"
             ],
             [
              0.2222222222222222,
              "#7201a8"
             ],
             [
              0.3333333333333333,
              "#9c179e"
             ],
             [
              0.4444444444444444,
              "#bd3786"
             ],
             [
              0.5555555555555556,
              "#d8576b"
             ],
             [
              0.6666666666666666,
              "#ed7953"
             ],
             [
              0.7777777777777778,
              "#fb9f3a"
             ],
             [
              0.8888888888888888,
              "#fdca26"
             ],
             [
              1,
              "#f0f921"
             ]
            ],
            "type": "heatmapgl"
           }
          ],
          "histogram": [
           {
            "marker": {
             "pattern": {
              "fillmode": "overlay",
              "size": 10,
              "solidity": 0.2
             }
            },
            "type": "histogram"
           }
          ],
          "histogram2d": [
           {
            "colorbar": {
             "outlinewidth": 0,
             "ticks": ""
            },
            "colorscale": [
             [
              0,
              "#0d0887"
             ],
             [
              0.1111111111111111,
              "#46039f"
             ],
             [
              0.2222222222222222,
              "#7201a8"
             ],
             [
              0.3333333333333333,
              "#9c179e"
             ],
             [
              0.4444444444444444,
              "#bd3786"
             ],
             [
              0.5555555555555556,
              "#d8576b"
             ],
             [
              0.6666666666666666,
              "#ed7953"
             ],
             [
              0.7777777777777778,
              "#fb9f3a"
             ],
             [
              0.8888888888888888,
              "#fdca26"
             ],
             [
              1,
              "#f0f921"
             ]
            ],
            "type": "histogram2d"
           }
          ],
          "histogram2dcontour": [
           {
            "colorbar": {
             "outlinewidth": 0,
             "ticks": ""
            },
            "colorscale": [
             [
              0,
              "#0d0887"
             ],
             [
              0.1111111111111111,
              "#46039f"
             ],
             [
              0.2222222222222222,
              "#7201a8"
             ],
             [
              0.3333333333333333,
              "#9c179e"
             ],
             [
              0.4444444444444444,
              "#bd3786"
             ],
             [
              0.5555555555555556,
              "#d8576b"
             ],
             [
              0.6666666666666666,
              "#ed7953"
             ],
             [
              0.7777777777777778,
              "#fb9f3a"
             ],
             [
              0.8888888888888888,
              "#fdca26"
             ],
             [
              1,
              "#f0f921"
             ]
            ],
            "type": "histogram2dcontour"
           }
          ],
          "mesh3d": [
           {
            "colorbar": {
             "outlinewidth": 0,
             "ticks": ""
            },
            "type": "mesh3d"
           }
          ],
          "parcoords": [
           {
            "line": {
             "colorbar": {
              "outlinewidth": 0,
              "ticks": ""
             }
            },
            "type": "parcoords"
           }
          ],
          "pie": [
           {
            "automargin": true,
            "type": "pie"
           }
          ],
          "scatter": [
           {
            "fillpattern": {
             "fillmode": "overlay",
             "size": 10,
             "solidity": 0.2
            },
            "type": "scatter"
           }
          ],
          "scatter3d": [
           {
            "line": {
             "colorbar": {
              "outlinewidth": 0,
              "ticks": ""
             }
            },
            "marker": {
             "colorbar": {
              "outlinewidth": 0,
              "ticks": ""
             }
            },
            "type": "scatter3d"
           }
          ],
          "scattercarpet": [
           {
            "marker": {
             "colorbar": {
              "outlinewidth": 0,
              "ticks": ""
             }
            },
            "type": "scattercarpet"
           }
          ],
          "scattergeo": [
           {
            "marker": {
             "colorbar": {
              "outlinewidth": 0,
              "ticks": ""
             }
            },
            "type": "scattergeo"
           }
          ],
          "scattergl": [
           {
            "marker": {
             "colorbar": {
              "outlinewidth": 0,
              "ticks": ""
             }
            },
            "type": "scattergl"
           }
          ],
          "scattermapbox": [
           {
            "marker": {
             "colorbar": {
              "outlinewidth": 0,
              "ticks": ""
             }
            },
            "type": "scattermapbox"
           }
          ],
          "scatterpolar": [
           {
            "marker": {
             "colorbar": {
              "outlinewidth": 0,
              "ticks": ""
             }
            },
            "type": "scatterpolar"
           }
          ],
          "scatterpolargl": [
           {
            "marker": {
             "colorbar": {
              "outlinewidth": 0,
              "ticks": ""
             }
            },
            "type": "scatterpolargl"
           }
          ],
          "scatterternary": [
           {
            "marker": {
             "colorbar": {
              "outlinewidth": 0,
              "ticks": ""
             }
            },
            "type": "scatterternary"
           }
          ],
          "surface": [
           {
            "colorbar": {
             "outlinewidth": 0,
             "ticks": ""
            },
            "colorscale": [
             [
              0,
              "#0d0887"
             ],
             [
              0.1111111111111111,
              "#46039f"
             ],
             [
              0.2222222222222222,
              "#7201a8"
             ],
             [
              0.3333333333333333,
              "#9c179e"
             ],
             [
              0.4444444444444444,
              "#bd3786"
             ],
             [
              0.5555555555555556,
              "#d8576b"
             ],
             [
              0.6666666666666666,
              "#ed7953"
             ],
             [
              0.7777777777777778,
              "#fb9f3a"
             ],
             [
              0.8888888888888888,
              "#fdca26"
             ],
             [
              1,
              "#f0f921"
             ]
            ],
            "type": "surface"
           }
          ],
          "table": [
           {
            "cells": {
             "fill": {
              "color": "#EBF0F8"
             },
             "line": {
              "color": "white"
             }
            },
            "header": {
             "fill": {
              "color": "#C8D4E3"
             },
             "line": {
              "color": "white"
             }
            },
            "type": "table"
           }
          ]
         },
         "layout": {
          "annotationdefaults": {
           "arrowcolor": "#2a3f5f",
           "arrowhead": 0,
           "arrowwidth": 1
          },
          "autotypenumbers": "strict",
          "coloraxis": {
           "colorbar": {
            "outlinewidth": 0,
            "ticks": ""
           }
          },
          "colorscale": {
           "diverging": [
            [
             0,
             "#8e0152"
            ],
            [
             0.1,
             "#c51b7d"
            ],
            [
             0.2,
             "#de77ae"
            ],
            [
             0.3,
             "#f1b6da"
            ],
            [
             0.4,
             "#fde0ef"
            ],
            [
             0.5,
             "#f7f7f7"
            ],
            [
             0.6,
             "#e6f5d0"
            ],
            [
             0.7,
             "#b8e186"
            ],
            [
             0.8,
             "#7fbc41"
            ],
            [
             0.9,
             "#4d9221"
            ],
            [
             1,
             "#276419"
            ]
           ],
           "sequential": [
            [
             0,
             "#0d0887"
            ],
            [
             0.1111111111111111,
             "#46039f"
            ],
            [
             0.2222222222222222,
             "#7201a8"
            ],
            [
             0.3333333333333333,
             "#9c179e"
            ],
            [
             0.4444444444444444,
             "#bd3786"
            ],
            [
             0.5555555555555556,
             "#d8576b"
            ],
            [
             0.6666666666666666,
             "#ed7953"
            ],
            [
             0.7777777777777778,
             "#fb9f3a"
            ],
            [
             0.8888888888888888,
             "#fdca26"
            ],
            [
             1,
             "#f0f921"
            ]
           ],
           "sequentialminus": [
            [
             0,
             "#0d0887"
            ],
            [
             0.1111111111111111,
             "#46039f"
            ],
            [
             0.2222222222222222,
             "#7201a8"
            ],
            [
             0.3333333333333333,
             "#9c179e"
            ],
            [
             0.4444444444444444,
             "#bd3786"
            ],
            [
             0.5555555555555556,
             "#d8576b"
            ],
            [
             0.6666666666666666,
             "#ed7953"
            ],
            [
             0.7777777777777778,
             "#fb9f3a"
            ],
            [
             0.8888888888888888,
             "#fdca26"
            ],
            [
             1,
             "#f0f921"
            ]
           ]
          },
          "colorway": [
           "#636efa",
           "#EF553B",
           "#00cc96",
           "#ab63fa",
           "#FFA15A",
           "#19d3f3",
           "#FF6692",
           "#B6E880",
           "#FF97FF",
           "#FECB52"
          ],
          "font": {
           "color": "#2a3f5f"
          },
          "geo": {
           "bgcolor": "white",
           "lakecolor": "white",
           "landcolor": "#E5ECF6",
           "showlakes": true,
           "showland": true,
           "subunitcolor": "white"
          },
          "hoverlabel": {
           "align": "left"
          },
          "hovermode": "closest",
          "mapbox": {
           "style": "light"
          },
          "paper_bgcolor": "white",
          "plot_bgcolor": "#E5ECF6",
          "polar": {
           "angularaxis": {
            "gridcolor": "white",
            "linecolor": "white",
            "ticks": ""
           },
           "bgcolor": "#E5ECF6",
           "radialaxis": {
            "gridcolor": "white",
            "linecolor": "white",
            "ticks": ""
           }
          },
          "scene": {
           "xaxis": {
            "backgroundcolor": "#E5ECF6",
            "gridcolor": "white",
            "gridwidth": 2,
            "linecolor": "white",
            "showbackground": true,
            "ticks": "",
            "zerolinecolor": "white"
           },
           "yaxis": {
            "backgroundcolor": "#E5ECF6",
            "gridcolor": "white",
            "gridwidth": 2,
            "linecolor": "white",
            "showbackground": true,
            "ticks": "",
            "zerolinecolor": "white"
           },
           "zaxis": {
            "backgroundcolor": "#E5ECF6",
            "gridcolor": "white",
            "gridwidth": 2,
            "linecolor": "white",
            "showbackground": true,
            "ticks": "",
            "zerolinecolor": "white"
           }
          },
          "shapedefaults": {
           "line": {
            "color": "#2a3f5f"
           }
          },
          "ternary": {
           "aaxis": {
            "gridcolor": "white",
            "linecolor": "white",
            "ticks": ""
           },
           "baxis": {
            "gridcolor": "white",
            "linecolor": "white",
            "ticks": ""
           },
           "bgcolor": "#E5ECF6",
           "caxis": {
            "gridcolor": "white",
            "linecolor": "white",
            "ticks": ""
           }
          },
          "title": {
           "x": 0.05
          },
          "xaxis": {
           "automargin": true,
           "gridcolor": "white",
           "linecolor": "white",
           "ticks": "",
           "title": {
            "standoff": 15
           },
           "zerolinecolor": "white",
           "zerolinewidth": 2
          },
          "yaxis": {
           "automargin": true,
           "gridcolor": "white",
           "linecolor": "white",
           "ticks": "",
           "title": {
            "standoff": 15
           },
           "zerolinecolor": "white",
           "zerolinewidth": 2
          }
         }
        },
        "title": {
         "text": "Gráfico de Velas de Bitcoin"
        },
        "xaxis": {
         "rangeslider": {
          "visible": false
         },
         "title": {
          "text": "Fecha"
         }
        },
        "yaxis": {
         "title": {
          "text": "Precio (USD)"
         }
        }
       }
      },
      "text/html": [
       "<div>                            <div id=\"7684128c-5f97-4c21-ab24-d6461c54b8e5\" class=\"plotly-graph-div\" style=\"height:525px; width:100%;\"></div>            <script type=\"text/javascript\">                require([\"plotly\"], function(Plotly) {                    window.PLOTLYENV=window.PLOTLYENV || {};                                    if (document.getElementById(\"7684128c-5f97-4c21-ab24-d6461c54b8e5\")) {                    Plotly.newPlot(                        \"7684128c-5f97-4c21-ab24-d6461c54b8e5\",                        [{\"close\":[98650.71875,98780.5390625,99005.15625,99435.40625,99609.3515625,99537.5703125,99292.6171875,99060.21875,98956.34375,98721.34375,99218.109375,99127.046875,99478.171875,100921.5546875,102174.2265625,102157.2421875,101832.2265625,101884.0,101854.2421875,102102.734375,101639.0625,102077.3671875,102228.5078125,102081.640625,101947.421875,101724.9453125,101742.0390625,101742.2734375,101750.328125,101826.7578125,101686.375,101906.2265625,101755.0546875,101430.9765625,100897.8203125,100747.6171875,100655.0703125,99929.6484375,97960.390625,97800.84375,97262.21875,96701.2890625,96496.671875,96440.1328125,96613.1015625,97092.2734375,96936.1875,97216.3203125,96858.0859375,96920.1328125,96480.5703125,96214.8984375,96483.859375,95294.0703125,95692.390625,95939.7265625,95549.515625,95919.734375,95161.71875,94857.25,95385.0625,95245.234375,95359.8984375,94741.9609375,93927.953125,94212.6796875,94258.359375,93937.09375,94468.34375,95233.4375,95038.3125,95094.15625,94951.859375,94650.4765625,94026.609375,94443.2734375,94431.6015625,94059.265625,93219.71875,92945.7109375,93497.9921875,93391.9140625,93409.7109375,93349.6953125,92103.4140625,92699.453125,94250.75,94192.7421875,92792.5390625,93066.9140625,92068.375,92116.2890625,92068.65625,92600.2890625,92480.140625,92773.15625,93083.6484375,93378.046875,93696.375,93582.1640625],\"high\":[98701.9375,99229.3984375,99167.1640625,99435.40625,99849.1171875,99702.453125,99496.4140625,99538.5703125,99202.140625,98994.1796875,99323.046875,99640.2890625,99539.2578125,101063.9453125,102408.3984375,102464.4375,102163.859375,102062.359375,102067.8359375,102328.90625,102356.6875,102082.3671875,102253.1953125,102674.328125,102090.1171875,102044.0546875,101816.46875,101930.7578125,101783.8671875,101902.703125,102014.3046875,101966.5390625,101905.40625,101715.09375,101446.4140625,100911.890625,100926.84375,100824.2734375,99968.2734375,98232.96875,97724.625,97449.09375,97129.4453125,96698.328125,97021.53125,97157.296875,97145.6015625,97216.3203125,97247.40625,97119.140625,96868.2578125,96579.1328125,96599.8125,96591.0703125,95743.3203125,96082.1875,96065.3125,95919.734375,95998.890625,95312.0234375,95605.4296875,95781.140625,95889.078125,95453.0,94774.421875,94980.6171875,94822.9921875,94367.2890625,94495.765625,95233.4375,95240.296875,95094.15625,95314.75,94979.953125,94739.015625,94443.2734375,94500.8828125,94544.5,94256.7265625,93332.078125,93654.6328125,93600.2421875,93719.9765625,93638.203125,93429.3046875,92699.453125,94380.671875,94547.3515625,94244.796875,93145.71875,93272.3984375,92213.171875,92436.0,92666.2734375,92628.7890625,92815.3125,93114.1328125,93607.5390625,93696.375,93851.0],\"low\":[97959.1953125,98699.7265625,98753.8125,99141.640625,99389.2109375,99444.8046875,99205.859375,99015.7421875,98954.9296875,98717.2265625,98738.6953125,99127.046875,98878.5546875,98775.3515625,100588.3203125,101793.6875,101394.265625,101694.5390625,101746.0703125,101897.7734375,101639.0625,101646.9765625,101947.890625,102057.421875,101756.640625,101723.09375,101592.6953125,101742.2734375,101649.6484375,101677.96875,101661.171875,101663.9921875,101642.796875,101398.796875,100501.9765625,100643.9765625,100648.5546875,99929.6484375,97473.9140625,97661.0390625,96927.3984375,96595.2265625,96370.53125,96162.7109375,96420.1015625,96436.3984375,96834.7421875,96706.765625,96612.359375,96783.4296875,96250.2421875,96121.3359375,96111.2734375,95280.71875,95263.8125,95495.3828125,95549.515625,95421.953125,94632.4609375,94857.25,94853.5859375,95035.40625,94706.8046875,94559.5625,92822.0234375,93837.03125,94116.8203125,93771.5390625,93718.109375,94456.9375,94906.6484375,94810.03125,94951.859375,93625.15625,94026.609375,93774.0703125,94253.984375,94025.6875,93217.7265625,92812.9453125,92974.6015625,93025.1796875,93307.984375,93189.25,92005.5078125,91826.828125,92681.546875,93851.25,92343.7421875,92440.96875,92068.375,91232.859375,91902.5078125,91700.2578125,92105.4921875,92495.1875,92619.0859375,93051.796875,93370.078125,93547.8046875],\"open\":[98218.5234375,98717.9609375,98791.4765625,99141.640625,99418.9765625,99567.5625,99489.3046875,99288.0,99025.84375,98994.1796875,98760.796875,99254.328125,99171.3828125,99477.28125,100717.265625,102136.3203125,102163.859375,101801.3203125,101829.9375,101897.7734375,102258.6875,101672.6328125,102045.46875,102247.3359375,102090.1171875,101973.15625,101710.2421875,101769.0546875,101704.46875,101743.1796875,101824.2578125,101712.2734375,101905.40625,101715.09375,101408.03125,100831.9921875,100743.0234375,100641.53125,99968.2734375,97914.8671875,97717.453125,97235.484375,96710.1484375,96411.046875,96437.359375,96495.6484375,97142.0625,96938.7734375,97247.40625,96884.671875,96868.2578125,96508.4296875,96255.421875,96473.109375,95263.8125,95644.8359375,95920.640625,95421.953125,95930.1875,95100.9375,94853.5859375,95386.1953125,95292.9609375,95453.0,94743.3984375,94027.75,94236.3671875,94219.859375,93933.6171875,94456.9375,95240.296875,95038.078125,95106.0234375,94979.953125,94739.015625,93990.734375,94374.2578125,94422.2265625,94053.6328125,93208.5546875,92974.6015625,93480.28125,93394.0625,93415.1328125,93345.84375,91900.65625,92827.40625,94207.0234375,94228.078125,92659.328125,93017.78125,91937.265625,92070.5,92100.03125,92451.8828125,92529.9921875,92739.2734375,93097.3984375,93373.28125,93701.765625],\"x\":[\"2025-01-06T01:00:00+00:00\",\"2025-01-06T02:00:00+00:00\",\"2025-01-06T03:00:00+00:00\",\"2025-01-06T04:00:00+00:00\",\"2025-01-06T05:00:00+00:00\",\"2025-01-06T06:00:00+00:00\",\"2025-01-06T07:00:00+00:00\",\"2025-01-06T08:00:00+00:00\",\"2025-01-06T09:00:00+00:00\",\"2025-01-06T10:00:00+00:00\",\"2025-01-06T11:00:00+00:00\",\"2025-01-06T12:00:00+00:00\",\"2025-01-06T13:00:00+00:00\",\"2025-01-06T14:00:00+00:00\",\"2025-01-06T15:00:00+00:00\",\"2025-01-06T16:00:00+00:00\",\"2025-01-06T17:00:00+00:00\",\"2025-01-06T18:00:00+00:00\",\"2025-01-06T19:00:00+00:00\",\"2025-01-06T20:00:00+00:00\",\"2025-01-06T21:00:00+00:00\",\"2025-01-06T22:00:00+00:00\",\"2025-01-06T23:00:00+00:00\",\"2025-01-07T00:00:00+00:00\",\"2025-01-07T01:00:00+00:00\",\"2025-01-07T02:00:00+00:00\",\"2025-01-07T03:00:00+00:00\",\"2025-01-07T04:00:00+00:00\",\"2025-01-07T05:00:00+00:00\",\"2025-01-07T06:00:00+00:00\",\"2025-01-07T07:00:00+00:00\",\"2025-01-07T08:00:00+00:00\",\"2025-01-07T09:00:00+00:00\",\"2025-01-07T10:00:00+00:00\",\"2025-01-07T11:00:00+00:00\",\"2025-01-07T12:00:00+00:00\",\"2025-01-07T13:00:00+00:00\",\"2025-01-07T14:00:00+00:00\",\"2025-01-07T15:00:00+00:00\",\"2025-01-07T16:00:00+00:00\",\"2025-01-07T17:00:00+00:00\",\"2025-01-07T18:00:00+00:00\",\"2025-01-07T19:00:00+00:00\",\"2025-01-07T20:00:00+00:00\",\"2025-01-07T21:00:00+00:00\",\"2025-01-07T22:00:00+00:00\",\"2025-01-07T23:00:00+00:00\",\"2025-01-08T00:00:00+00:00\",\"2025-01-08T01:00:00+00:00\",\"2025-01-08T02:00:00+00:00\",\"2025-01-08T03:00:00+00:00\",\"2025-01-08T04:00:00+00:00\",\"2025-01-08T05:00:00+00:00\",\"2025-01-08T06:00:00+00:00\",\"2025-01-08T07:00:00+00:00\",\"2025-01-08T08:00:00+00:00\",\"2025-01-08T09:00:00+00:00\",\"2025-01-08T10:00:00+00:00\",\"2025-01-08T11:00:00+00:00\",\"2025-01-08T12:00:00+00:00\",\"2025-01-08T13:00:00+00:00\",\"2025-01-08T14:00:00+00:00\",\"2025-01-08T15:00:00+00:00\",\"2025-01-08T16:00:00+00:00\",\"2025-01-08T17:00:00+00:00\",\"2025-01-08T18:00:00+00:00\",\"2025-01-08T19:00:00+00:00\",\"2025-01-08T20:00:00+00:00\",\"2025-01-08T21:00:00+00:00\",\"2025-01-08T22:00:00+00:00\",\"2025-01-08T23:00:00+00:00\",\"2025-01-09T00:00:00+00:00\",\"2025-01-09T01:00:00+00:00\",\"2025-01-09T02:00:00+00:00\",\"2025-01-09T03:00:00+00:00\",\"2025-01-09T04:00:00+00:00\",\"2025-01-09T05:00:00+00:00\",\"2025-01-09T06:00:00+00:00\",\"2025-01-09T07:00:00+00:00\",\"2025-01-09T08:00:00+00:00\",\"2025-01-09T09:00:00+00:00\",\"2025-01-09T10:00:00+00:00\",\"2025-01-09T11:00:00+00:00\",\"2025-01-09T12:00:00+00:00\",\"2025-01-09T13:00:00+00:00\",\"2025-01-09T14:00:00+00:00\",\"2025-01-09T15:00:00+00:00\",\"2025-01-09T16:00:00+00:00\",\"2025-01-09T17:00:00+00:00\",\"2025-01-09T18:00:00+00:00\",\"2025-01-09T19:00:00+00:00\",\"2025-01-09T20:00:00+00:00\",\"2025-01-09T21:00:00+00:00\",\"2025-01-09T22:00:00+00:00\",\"2025-01-09T23:00:00+00:00\",\"2025-01-10T00:00:00+00:00\",\"2025-01-10T01:00:00+00:00\",\"2025-01-10T02:00:00+00:00\",\"2025-01-10T03:00:00+00:00\",\"2025-01-10T04:00:00+00:00\"],\"type\":\"candlestick\"},{\"mode\":\"lines\",\"name\":\"Media M\\u00f3vil (10 per\\u00edodos)\",\"x\":[\"2025-01-06T01:00:00+00:00\",\"2025-01-06T02:00:00+00:00\",\"2025-01-06T03:00:00+00:00\",\"2025-01-06T04:00:00+00:00\",\"2025-01-06T05:00:00+00:00\",\"2025-01-06T06:00:00+00:00\",\"2025-01-06T07:00:00+00:00\",\"2025-01-06T08:00:00+00:00\",\"2025-01-06T09:00:00+00:00\",\"2025-01-06T10:00:00+00:00\",\"2025-01-06T11:00:00+00:00\",\"2025-01-06T12:00:00+00:00\",\"2025-01-06T13:00:00+00:00\",\"2025-01-06T14:00:00+00:00\",\"2025-01-06T15:00:00+00:00\",\"2025-01-06T16:00:00+00:00\",\"2025-01-06T17:00:00+00:00\",\"2025-01-06T18:00:00+00:00\",\"2025-01-06T19:00:00+00:00\",\"2025-01-06T20:00:00+00:00\",\"2025-01-06T21:00:00+00:00\",\"2025-01-06T22:00:00+00:00\",\"2025-01-06T23:00:00+00:00\",\"2025-01-07T00:00:00+00:00\",\"2025-01-07T01:00:00+00:00\",\"2025-01-07T02:00:00+00:00\",\"2025-01-07T03:00:00+00:00\",\"2025-01-07T04:00:00+00:00\",\"2025-01-07T05:00:00+00:00\",\"2025-01-07T06:00:00+00:00\",\"2025-01-07T07:00:00+00:00\",\"2025-01-07T08:00:00+00:00\",\"2025-01-07T09:00:00+00:00\",\"2025-01-07T10:00:00+00:00\",\"2025-01-07T11:00:00+00:00\",\"2025-01-07T12:00:00+00:00\",\"2025-01-07T13:00:00+00:00\",\"2025-01-07T14:00:00+00:00\",\"2025-01-07T15:00:00+00:00\",\"2025-01-07T16:00:00+00:00\",\"2025-01-07T17:00:00+00:00\",\"2025-01-07T18:00:00+00:00\",\"2025-01-07T19:00:00+00:00\",\"2025-01-07T20:00:00+00:00\",\"2025-01-07T21:00:00+00:00\",\"2025-01-07T22:00:00+00:00\",\"2025-01-07T23:00:00+00:00\",\"2025-01-08T00:00:00+00:00\",\"2025-01-08T01:00:00+00:00\",\"2025-01-08T02:00:00+00:00\",\"2025-01-08T03:00:00+00:00\",\"2025-01-08T04:00:00+00:00\",\"2025-01-08T05:00:00+00:00\",\"2025-01-08T06:00:00+00:00\",\"2025-01-08T07:00:00+00:00\",\"2025-01-08T08:00:00+00:00\",\"2025-01-08T09:00:00+00:00\",\"2025-01-08T10:00:00+00:00\",\"2025-01-08T11:00:00+00:00\",\"2025-01-08T12:00:00+00:00\",\"2025-01-08T13:00:00+00:00\",\"2025-01-08T14:00:00+00:00\",\"2025-01-08T15:00:00+00:00\",\"2025-01-08T16:00:00+00:00\",\"2025-01-08T17:00:00+00:00\",\"2025-01-08T18:00:00+00:00\",\"2025-01-08T19:00:00+00:00\",\"2025-01-08T20:00:00+00:00\",\"2025-01-08T21:00:00+00:00\",\"2025-01-08T22:00:00+00:00\",\"2025-01-08T23:00:00+00:00\",\"2025-01-09T00:00:00+00:00\",\"2025-01-09T01:00:00+00:00\",\"2025-01-09T02:00:00+00:00\",\"2025-01-09T03:00:00+00:00\",\"2025-01-09T04:00:00+00:00\",\"2025-01-09T05:00:00+00:00\",\"2025-01-09T06:00:00+00:00\",\"2025-01-09T07:00:00+00:00\",\"2025-01-09T08:00:00+00:00\",\"2025-01-09T09:00:00+00:00\",\"2025-01-09T10:00:00+00:00\",\"2025-01-09T11:00:00+00:00\",\"2025-01-09T12:00:00+00:00\",\"2025-01-09T13:00:00+00:00\",\"2025-01-09T14:00:00+00:00\",\"2025-01-09T15:00:00+00:00\",\"2025-01-09T16:00:00+00:00\",\"2025-01-09T17:00:00+00:00\",\"2025-01-09T18:00:00+00:00\",\"2025-01-09T19:00:00+00:00\",\"2025-01-09T20:00:00+00:00\",\"2025-01-09T21:00:00+00:00\",\"2025-01-09T22:00:00+00:00\",\"2025-01-09T23:00:00+00:00\",\"2025-01-10T00:00:00+00:00\",\"2025-01-10T01:00:00+00:00\",\"2025-01-10T02:00:00+00:00\",\"2025-01-10T03:00:00+00:00\",\"2025-01-10T04:00:00+00:00\"],\"y\":[98221.53046875,98298.5765625,98430.03671875,98583.65390625,98741.66328125,98871.8796875,98951.03828125,98990.94296875,99054.6109375,99104.9265625,99161.665625,99196.31640625,99243.61796875,99392.2328125,99648.7203125,99910.6875,100164.6484375,100447.0265625,100736.81640625,101074.95546875,101317.05078125,101612.0828125,101887.11640625,102003.125,101980.44453125,101937.21484375,101928.19609375,101914.0234375,101903.63203125,101876.034375,101880.765625,101863.6515625,101816.30625,101751.23984375,101646.2796875,101548.546875,101439.85,101258.5875,100879.59375,100477.00234375,100034.58671875,99514.09296875,98988.2546875,98489.1703125,98060.6984375,97695.1640625,97323.27578125,97051.94296875,96941.7125,96853.64140625,96775.4765625,96726.8375,96725.55625,96610.95,96518.87890625,96403.62421875,96264.95703125,96135.2984375,95965.66171875,95759.3734375,95649.82265625,95552.85625,95440.46015625,95385.24921875,95208.80546875,95036.10078125,94906.98515625,94708.72109375,94639.38359375,94677.00234375,94642.32734375,94627.21953125,94586.415625,94577.2671875,94587.1328125,94610.1921875,94627.51640625,94639.73359375,94514.87109375,94286.0984375,94132.06640625,93961.8421875,93807.62734375,93677.54921875,93485.2296875,93310.84765625,93292.7625,93306.11015625,93263.3921875,93275.5125,93132.55078125,93004.98828125,92870.8828125,92795.9421875,92833.61484375,92840.98515625,92724.275,92642.80546875,92733.1890625,92784.7140625],\"type\":\"scatter\"},{\"mode\":\"lines\",\"name\":\"Media M\\u00f3vil (20 per\\u00edodos)\",\"x\":[\"2025-01-06T01:00:00+00:00\",\"2025-01-06T02:00:00+00:00\",\"2025-01-06T03:00:00+00:00\",\"2025-01-06T04:00:00+00:00\",\"2025-01-06T05:00:00+00:00\",\"2025-01-06T06:00:00+00:00\",\"2025-01-06T07:00:00+00:00\",\"2025-01-06T08:00:00+00:00\",\"2025-01-06T09:00:00+00:00\",\"2025-01-06T10:00:00+00:00\",\"2025-01-06T11:00:00+00:00\",\"2025-01-06T12:00:00+00:00\",\"2025-01-06T13:00:00+00:00\",\"2025-01-06T14:00:00+00:00\",\"2025-01-06T15:00:00+00:00\",\"2025-01-06T16:00:00+00:00\",\"2025-01-06T17:00:00+00:00\",\"2025-01-06T18:00:00+00:00\",\"2025-01-06T19:00:00+00:00\",\"2025-01-06T20:00:00+00:00\",\"2025-01-06T21:00:00+00:00\",\"2025-01-06T22:00:00+00:00\",\"2025-01-06T23:00:00+00:00\",\"2025-01-07T00:00:00+00:00\",\"2025-01-07T01:00:00+00:00\",\"2025-01-07T02:00:00+00:00\",\"2025-01-07T03:00:00+00:00\",\"2025-01-07T04:00:00+00:00\",\"2025-01-07T05:00:00+00:00\",\"2025-01-07T06:00:00+00:00\",\"2025-01-07T07:00:00+00:00\",\"2025-01-07T08:00:00+00:00\",\"2025-01-07T09:00:00+00:00\",\"2025-01-07T10:00:00+00:00\",\"2025-01-07T11:00:00+00:00\",\"2025-01-07T12:00:00+00:00\",\"2025-01-07T13:00:00+00:00\",\"2025-01-07T14:00:00+00:00\",\"2025-01-07T15:00:00+00:00\",\"2025-01-07T16:00:00+00:00\",\"2025-01-07T17:00:00+00:00\",\"2025-01-07T18:00:00+00:00\",\"2025-01-07T19:00:00+00:00\",\"2025-01-07T20:00:00+00:00\",\"2025-01-07T21:00:00+00:00\",\"2025-01-07T22:00:00+00:00\",\"2025-01-07T23:00:00+00:00\",\"2025-01-08T00:00:00+00:00\",\"2025-01-08T01:00:00+00:00\",\"2025-01-08T02:00:00+00:00\",\"2025-01-08T03:00:00+00:00\",\"2025-01-08T04:00:00+00:00\",\"2025-01-08T05:00:00+00:00\",\"2025-01-08T06:00:00+00:00\",\"2025-01-08T07:00:00+00:00\",\"2025-01-08T08:00:00+00:00\",\"2025-01-08T09:00:00+00:00\",\"2025-01-08T10:00:00+00:00\",\"2025-01-08T11:00:00+00:00\",\"2025-01-08T12:00:00+00:00\",\"2025-01-08T13:00:00+00:00\",\"2025-01-08T14:00:00+00:00\",\"2025-01-08T15:00:00+00:00\",\"2025-01-08T16:00:00+00:00\",\"2025-01-08T17:00:00+00:00\",\"2025-01-08T18:00:00+00:00\",\"2025-01-08T19:00:00+00:00\",\"2025-01-08T20:00:00+00:00\",\"2025-01-08T21:00:00+00:00\",\"2025-01-08T22:00:00+00:00\",\"2025-01-08T23:00:00+00:00\",\"2025-01-09T00:00:00+00:00\",\"2025-01-09T01:00:00+00:00\",\"2025-01-09T02:00:00+00:00\",\"2025-01-09T03:00:00+00:00\",\"2025-01-09T04:00:00+00:00\",\"2025-01-09T05:00:00+00:00\",\"2025-01-09T06:00:00+00:00\",\"2025-01-09T07:00:00+00:00\",\"2025-01-09T08:00:00+00:00\",\"2025-01-09T09:00:00+00:00\",\"2025-01-09T10:00:00+00:00\",\"2025-01-09T11:00:00+00:00\",\"2025-01-09T12:00:00+00:00\",\"2025-01-09T13:00:00+00:00\",\"2025-01-09T14:00:00+00:00\",\"2025-01-09T15:00:00+00:00\",\"2025-01-09T16:00:00+00:00\",\"2025-01-09T17:00:00+00:00\",\"2025-01-09T18:00:00+00:00\",\"2025-01-09T19:00:00+00:00\",\"2025-01-09T20:00:00+00:00\",\"2025-01-09T21:00:00+00:00\",\"2025-01-09T22:00:00+00:00\",\"2025-01-09T23:00:00+00:00\",\"2025-01-10T00:00:00+00:00\",\"2025-01-10T01:00:00+00:00\",\"2025-01-10T02:00:00+00:00\",\"2025-01-10T03:00:00+00:00\",\"2025-01-10T04:00:00+00:00\"],\"y\":[98055.3359375,98072.09921875,98108.85390625,98190.241796875,98286.930859375,98378.488671875,98461.71171875,98524.337890625,98586.717578125,98631.0,98691.598046875,98747.446484375,98836.82734375,98987.943359375,99195.191796875,99391.28359375,99557.843359375,99718.984765625,99895.713671875,100089.941015625,100239.358203125,100404.199609375,100565.3671875,100697.67890625,100814.582421875,100923.951171875,101046.422265625,101180.525,101320.22421875,101475.494921875,101598.908203125,101737.8671875,101851.711328125,101877.182421875,101813.362109375,101742.880859375,101684.023046875,101586.30546875,101391.612890625,101176.518359375,100957.676171875,100688.872265625,100402.28046875,100120.205078125,99853.4890625,99621.85546875,99381.562890625,99155.265234375,98910.653125,98665.321875,98405.031640625,98120.465234375,97856.90546875,97550.06015625,97289.788671875,97049.394140625,96794.11640625,96593.620703125,96453.687109375,96306.507421875,96212.649609375,96139.846875,96083.008203125,95998.099609375,95863.8421875,95719.8625,95585.97109375,95422.009765625,95302.52265625,95218.187890625,95146.075,95090.037890625,95013.437890625,94981.258203125,94897.969140625,94823.146484375,94767.25078125,94674.22734375,94577.12734375,94481.550390625,94387.196875,94294.530859375,94197.021484375,94127.408203125,94036.18125,93960.519921875,93960.139453125,93972.921875,93889.131640625,93780.80546875,93632.30859375,93483.415234375,93339.255078125,93236.745703125,93159.422265625,93075.91640625,93008.51875,92974.4578125,92998.290625,93030.11328125],\"type\":\"scatter\"},{\"mode\":\"lines\",\"name\":\"Media M\\u00f3vil Exp (20 per\\u00edodos)\",\"x\":[\"2025-01-06T01:00:00+00:00\",\"2025-01-06T02:00:00+00:00\",\"2025-01-06T03:00:00+00:00\",\"2025-01-06T04:00:00+00:00\",\"2025-01-06T05:00:00+00:00\",\"2025-01-06T06:00:00+00:00\",\"2025-01-06T07:00:00+00:00\",\"2025-01-06T08:00:00+00:00\",\"2025-01-06T09:00:00+00:00\",\"2025-01-06T10:00:00+00:00\",\"2025-01-06T11:00:00+00:00\",\"2025-01-06T12:00:00+00:00\",\"2025-01-06T13:00:00+00:00\",\"2025-01-06T14:00:00+00:00\",\"2025-01-06T15:00:00+00:00\",\"2025-01-06T16:00:00+00:00\",\"2025-01-06T17:00:00+00:00\",\"2025-01-06T18:00:00+00:00\",\"2025-01-06T19:00:00+00:00\",\"2025-01-06T20:00:00+00:00\",\"2025-01-06T21:00:00+00:00\",\"2025-01-06T22:00:00+00:00\",\"2025-01-06T23:00:00+00:00\",\"2025-01-07T00:00:00+00:00\",\"2025-01-07T01:00:00+00:00\",\"2025-01-07T02:00:00+00:00\",\"2025-01-07T03:00:00+00:00\",\"2025-01-07T04:00:00+00:00\",\"2025-01-07T05:00:00+00:00\",\"2025-01-07T06:00:00+00:00\",\"2025-01-07T07:00:00+00:00\",\"2025-01-07T08:00:00+00:00\",\"2025-01-07T09:00:00+00:00\",\"2025-01-07T10:00:00+00:00\",\"2025-01-07T11:00:00+00:00\",\"2025-01-07T12:00:00+00:00\",\"2025-01-07T13:00:00+00:00\",\"2025-01-07T14:00:00+00:00\",\"2025-01-07T15:00:00+00:00\",\"2025-01-07T16:00:00+00:00\",\"2025-01-07T17:00:00+00:00\",\"2025-01-07T18:00:00+00:00\",\"2025-01-07T19:00:00+00:00\",\"2025-01-07T20:00:00+00:00\",\"2025-01-07T21:00:00+00:00\",\"2025-01-07T22:00:00+00:00\",\"2025-01-07T23:00:00+00:00\",\"2025-01-08T00:00:00+00:00\",\"2025-01-08T01:00:00+00:00\",\"2025-01-08T02:00:00+00:00\",\"2025-01-08T03:00:00+00:00\",\"2025-01-08T04:00:00+00:00\",\"2025-01-08T05:00:00+00:00\",\"2025-01-08T06:00:00+00:00\",\"2025-01-08T07:00:00+00:00\",\"2025-01-08T08:00:00+00:00\",\"2025-01-08T09:00:00+00:00\",\"2025-01-08T10:00:00+00:00\",\"2025-01-08T11:00:00+00:00\",\"2025-01-08T12:00:00+00:00\",\"2025-01-08T13:00:00+00:00\",\"2025-01-08T14:00:00+00:00\",\"2025-01-08T15:00:00+00:00\",\"2025-01-08T16:00:00+00:00\",\"2025-01-08T17:00:00+00:00\",\"2025-01-08T18:00:00+00:00\",\"2025-01-08T19:00:00+00:00\",\"2025-01-08T20:00:00+00:00\",\"2025-01-08T21:00:00+00:00\",\"2025-01-08T22:00:00+00:00\",\"2025-01-08T23:00:00+00:00\",\"2025-01-09T00:00:00+00:00\",\"2025-01-09T01:00:00+00:00\",\"2025-01-09T02:00:00+00:00\",\"2025-01-09T03:00:00+00:00\",\"2025-01-09T04:00:00+00:00\",\"2025-01-09T05:00:00+00:00\",\"2025-01-09T06:00:00+00:00\",\"2025-01-09T07:00:00+00:00\",\"2025-01-09T08:00:00+00:00\",\"2025-01-09T09:00:00+00:00\",\"2025-01-09T10:00:00+00:00\",\"2025-01-09T11:00:00+00:00\",\"2025-01-09T12:00:00+00:00\",\"2025-01-09T13:00:00+00:00\",\"2025-01-09T14:00:00+00:00\",\"2025-01-09T15:00:00+00:00\",\"2025-01-09T16:00:00+00:00\",\"2025-01-09T17:00:00+00:00\",\"2025-01-09T18:00:00+00:00\",\"2025-01-09T19:00:00+00:00\",\"2025-01-09T20:00:00+00:00\",\"2025-01-09T21:00:00+00:00\",\"2025-01-09T22:00:00+00:00\",\"2025-01-09T23:00:00+00:00\",\"2025-01-10T00:00:00+00:00\",\"2025-01-10T01:00:00+00:00\",\"2025-01-10T02:00:00+00:00\",\"2025-01-10T03:00:00+00:00\",\"2025-01-10T04:00:00+00:00\"],\"y\":[98167.38913718806,98225.78436817015,98300.01026167776,98408.14321294654,98522.54400814211,98619.21317998572,98683.34689498707,98719.23945260736,98741.8208142638,98739.87061766726,98785.41716598466,98817.95332874803,98880.83128553393,99075.18589524498,99370.33262545975,99635.7525837493,99844.94058172556,100039.13671679932,100212.0039044851,100392.07347310556,100510.83433280978,100660.02793801838,100809.40697368329,100930.5720833325,101027.41492063417,101093.84638652616,101155.57902233319,101211.45468092049,101262.77596130903,101316.48851856531,101351.71580251148,101404.52635108182,101437.91000216926,101437.2496745817,101385.87544962154,101325.0889484671,101261.27764980358,101134.45582006038,100832.1638967213,100543.46673989069,100230.96693132966,99894.80713429826,99571.17520484127,99272.98069128496,99019.65886949592,98836.09835216298,98655.1544614808,98518.12263776835,98360.02390440946,98222.8914194657,98056.95607594516,97881.52201514086,97748.4112875084,97514.66452798378,97341.11463246153,97207.649101989,97049.73162799004,96942.112841991,96772.55149989661,96590.14183323979,96475.37237293125,96358.21637312826,96263.138474497,96118.26442335443,95909.66334732067,95748.0458559092,95606.17095296546,95447.2112193497,95353.9857460783,95342.50496073751,95313.53425019108,95292.64110731575,95260.18570423806,95202.11816692966,95090.16494865064,95028.55623330295,94971.70340751219,94884.80457108247,94726.22496907461,94556.65220416275,94455.82744067107,94354.50235703573,94264.52222184185,94177.39584952359,93979.87377456896,93857.92895080049,93895.34047929569,93923.66445150563,93815.93822398128,93744.6025895545,93584.96186673979,93445.08826633601,93313.99950287543,93246.02707998254,93173.08551284135,93134.99701161837,93130.10667122614,93153.7200239665,93205.4014502554,93241.2836038025],\"type\":\"scatter\"}],                        {\"template\":{\"data\":{\"histogram2dcontour\":[{\"type\":\"histogram2dcontour\",\"colorbar\":{\"outlinewidth\":0,\"ticks\":\"\"},\"colorscale\":[[0.0,\"#0d0887\"],[0.1111111111111111,\"#46039f\"],[0.2222222222222222,\"#7201a8\"],[0.3333333333333333,\"#9c179e\"],[0.4444444444444444,\"#bd3786\"],[0.5555555555555556,\"#d8576b\"],[0.6666666666666666,\"#ed7953\"],[0.7777777777777778,\"#fb9f3a\"],[0.8888888888888888,\"#fdca26\"],[1.0,\"#f0f921\"]]}],\"choropleth\":[{\"type\":\"choropleth\",\"colorbar\":{\"outlinewidth\":0,\"ticks\":\"\"}}],\"histogram2d\":[{\"type\":\"histogram2d\",\"colorbar\":{\"outlinewidth\":0,\"ticks\":\"\"},\"colorscale\":[[0.0,\"#0d0887\"],[0.1111111111111111,\"#46039f\"],[0.2222222222222222,\"#7201a8\"],[0.3333333333333333,\"#9c179e\"],[0.4444444444444444,\"#bd3786\"],[0.5555555555555556,\"#d8576b\"],[0.6666666666666666,\"#ed7953\"],[0.7777777777777778,\"#fb9f3a\"],[0.8888888888888888,\"#fdca26\"],[1.0,\"#f0f921\"]]}],\"heatmap\":[{\"type\":\"heatmap\",\"colorbar\":{\"outlinewidth\":0,\"ticks\":\"\"},\"colorscale\":[[0.0,\"#0d0887\"],[0.1111111111111111,\"#46039f\"],[0.2222222222222222,\"#7201a8\"],[0.3333333333333333,\"#9c179e\"],[0.4444444444444444,\"#bd3786\"],[0.5555555555555556,\"#d8576b\"],[0.6666666666666666,\"#ed7953\"],[0.7777777777777778,\"#fb9f3a\"],[0.8888888888888888,\"#fdca26\"],[1.0,\"#f0f921\"]]}],\"heatmapgl\":[{\"type\":\"heatmapgl\",\"colorbar\":{\"outlinewidth\":0,\"ticks\":\"\"},\"colorscale\":[[0.0,\"#0d0887\"],[0.1111111111111111,\"#46039f\"],[0.2222222222222222,\"#7201a8\"],[0.3333333333333333,\"#9c179e\"],[0.4444444444444444,\"#bd3786\"],[0.5555555555555556,\"#d8576b\"],[0.6666666666666666,\"#ed7953\"],[0.7777777777777778,\"#fb9f3a\"],[0.8888888888888888,\"#fdca26\"],[1.0,\"#f0f921\"]]}],\"contourcarpet\":[{\"type\":\"contourcarpet\",\"colorbar\":{\"outlinewidth\":0,\"ticks\":\"\"}}],\"contour\":[{\"type\":\"contour\",\"colorbar\":{\"outlinewidth\":0,\"ticks\":\"\"},\"colorscale\":[[0.0,\"#0d0887\"],[0.1111111111111111,\"#46039f\"],[0.2222222222222222,\"#7201a8\"],[0.3333333333333333,\"#9c179e\"],[0.4444444444444444,\"#bd3786\"],[0.5555555555555556,\"#d8576b\"],[0.6666666666666666,\"#ed7953\"],[0.7777777777777778,\"#fb9f3a\"],[0.8888888888888888,\"#fdca26\"],[1.0,\"#f0f921\"]]}],\"surface\":[{\"type\":\"surface\",\"colorbar\":{\"outlinewidth\":0,\"ticks\":\"\"},\"colorscale\":[[0.0,\"#0d0887\"],[0.1111111111111111,\"#46039f\"],[0.2222222222222222,\"#7201a8\"],[0.3333333333333333,\"#9c179e\"],[0.4444444444444444,\"#bd3786\"],[0.5555555555555556,\"#d8576b\"],[0.6666666666666666,\"#ed7953\"],[0.7777777777777778,\"#fb9f3a\"],[0.8888888888888888,\"#fdca26\"],[1.0,\"#f0f921\"]]}],\"mesh3d\":[{\"type\":\"mesh3d\",\"colorbar\":{\"outlinewidth\":0,\"ticks\":\"\"}}],\"scatter\":[{\"fillpattern\":{\"fillmode\":\"overlay\",\"size\":10,\"solidity\":0.2},\"type\":\"scatter\"}],\"parcoords\":[{\"type\":\"parcoords\",\"line\":{\"colorbar\":{\"outlinewidth\":0,\"ticks\":\"\"}}}],\"scatterpolargl\":[{\"type\":\"scatterpolargl\",\"marker\":{\"colorbar\":{\"outlinewidth\":0,\"ticks\":\"\"}}}],\"bar\":[{\"error_x\":{\"color\":\"#2a3f5f\"},\"error_y\":{\"color\":\"#2a3f5f\"},\"marker\":{\"line\":{\"color\":\"#E5ECF6\",\"width\":0.5},\"pattern\":{\"fillmode\":\"overlay\",\"size\":10,\"solidity\":0.2}},\"type\":\"bar\"}],\"scattergeo\":[{\"type\":\"scattergeo\",\"marker\":{\"colorbar\":{\"outlinewidth\":0,\"ticks\":\"\"}}}],\"scatterpolar\":[{\"type\":\"scatterpolar\",\"marker\":{\"colorbar\":{\"outlinewidth\":0,\"ticks\":\"\"}}}],\"histogram\":[{\"marker\":{\"pattern\":{\"fillmode\":\"overlay\",\"size\":10,\"solidity\":0.2}},\"type\":\"histogram\"}],\"scattergl\":[{\"type\":\"scattergl\",\"marker\":{\"colorbar\":{\"outlinewidth\":0,\"ticks\":\"\"}}}],\"scatter3d\":[{\"type\":\"scatter3d\",\"line\":{\"colorbar\":{\"outlinewidth\":0,\"ticks\":\"\"}},\"marker\":{\"colorbar\":{\"outlinewidth\":0,\"ticks\":\"\"}}}],\"scattermapbox\":[{\"type\":\"scattermapbox\",\"marker\":{\"colorbar\":{\"outlinewidth\":0,\"ticks\":\"\"}}}],\"scatterternary\":[{\"type\":\"scatterternary\",\"marker\":{\"colorbar\":{\"outlinewidth\":0,\"ticks\":\"\"}}}],\"scattercarpet\":[{\"type\":\"scattercarpet\",\"marker\":{\"colorbar\":{\"outlinewidth\":0,\"ticks\":\"\"}}}],\"carpet\":[{\"aaxis\":{\"endlinecolor\":\"#2a3f5f\",\"gridcolor\":\"white\",\"linecolor\":\"white\",\"minorgridcolor\":\"white\",\"startlinecolor\":\"#2a3f5f\"},\"baxis\":{\"endlinecolor\":\"#2a3f5f\",\"gridcolor\":\"white\",\"linecolor\":\"white\",\"minorgridcolor\":\"white\",\"startlinecolor\":\"#2a3f5f\"},\"type\":\"carpet\"}],\"table\":[{\"cells\":{\"fill\":{\"color\":\"#EBF0F8\"},\"line\":{\"color\":\"white\"}},\"header\":{\"fill\":{\"color\":\"#C8D4E3\"},\"line\":{\"color\":\"white\"}},\"type\":\"table\"}],\"barpolar\":[{\"marker\":{\"line\":{\"color\":\"#E5ECF6\",\"width\":0.5},\"pattern\":{\"fillmode\":\"overlay\",\"size\":10,\"solidity\":0.2}},\"type\":\"barpolar\"}],\"pie\":[{\"automargin\":true,\"type\":\"pie\"}]},\"layout\":{\"autotypenumbers\":\"strict\",\"colorway\":[\"#636efa\",\"#EF553B\",\"#00cc96\",\"#ab63fa\",\"#FFA15A\",\"#19d3f3\",\"#FF6692\",\"#B6E880\",\"#FF97FF\",\"#FECB52\"],\"font\":{\"color\":\"#2a3f5f\"},\"hovermode\":\"closest\",\"hoverlabel\":{\"align\":\"left\"},\"paper_bgcolor\":\"white\",\"plot_bgcolor\":\"#E5ECF6\",\"polar\":{\"bgcolor\":\"#E5ECF6\",\"angularaxis\":{\"gridcolor\":\"white\",\"linecolor\":\"white\",\"ticks\":\"\"},\"radialaxis\":{\"gridcolor\":\"white\",\"linecolor\":\"white\",\"ticks\":\"\"}},\"ternary\":{\"bgcolor\":\"#E5ECF6\",\"aaxis\":{\"gridcolor\":\"white\",\"linecolor\":\"white\",\"ticks\":\"\"},\"baxis\":{\"gridcolor\":\"white\",\"linecolor\":\"white\",\"ticks\":\"\"},\"caxis\":{\"gridcolor\":\"white\",\"linecolor\":\"white\",\"ticks\":\"\"}},\"coloraxis\":{\"colorbar\":{\"outlinewidth\":0,\"ticks\":\"\"}},\"colorscale\":{\"sequential\":[[0.0,\"#0d0887\"],[0.1111111111111111,\"#46039f\"],[0.2222222222222222,\"#7201a8\"],[0.3333333333333333,\"#9c179e\"],[0.4444444444444444,\"#bd3786\"],[0.5555555555555556,\"#d8576b\"],[0.6666666666666666,\"#ed7953\"],[0.7777777777777778,\"#fb9f3a\"],[0.8888888888888888,\"#fdca26\"],[1.0,\"#f0f921\"]],\"sequentialminus\":[[0.0,\"#0d0887\"],[0.1111111111111111,\"#46039f\"],[0.2222222222222222,\"#7201a8\"],[0.3333333333333333,\"#9c179e\"],[0.4444444444444444,\"#bd3786\"],[0.5555555555555556,\"#d8576b\"],[0.6666666666666666,\"#ed7953\"],[0.7777777777777778,\"#fb9f3a\"],[0.8888888888888888,\"#fdca26\"],[1.0,\"#f0f921\"]],\"diverging\":[[0,\"#8e0152\"],[0.1,\"#c51b7d\"],[0.2,\"#de77ae\"],[0.3,\"#f1b6da\"],[0.4,\"#fde0ef\"],[0.5,\"#f7f7f7\"],[0.6,\"#e6f5d0\"],[0.7,\"#b8e186\"],[0.8,\"#7fbc41\"],[0.9,\"#4d9221\"],[1,\"#276419\"]]},\"xaxis\":{\"gridcolor\":\"white\",\"linecolor\":\"white\",\"ticks\":\"\",\"title\":{\"standoff\":15},\"zerolinecolor\":\"white\",\"automargin\":true,\"zerolinewidth\":2},\"yaxis\":{\"gridcolor\":\"white\",\"linecolor\":\"white\",\"ticks\":\"\",\"title\":{\"standoff\":15},\"zerolinecolor\":\"white\",\"automargin\":true,\"zerolinewidth\":2},\"scene\":{\"xaxis\":{\"backgroundcolor\":\"#E5ECF6\",\"gridcolor\":\"white\",\"linecolor\":\"white\",\"showbackground\":true,\"ticks\":\"\",\"zerolinecolor\":\"white\",\"gridwidth\":2},\"yaxis\":{\"backgroundcolor\":\"#E5ECF6\",\"gridcolor\":\"white\",\"linecolor\":\"white\",\"showbackground\":true,\"ticks\":\"\",\"zerolinecolor\":\"white\",\"gridwidth\":2},\"zaxis\":{\"backgroundcolor\":\"#E5ECF6\",\"gridcolor\":\"white\",\"linecolor\":\"white\",\"showbackground\":true,\"ticks\":\"\",\"zerolinecolor\":\"white\",\"gridwidth\":2}},\"shapedefaults\":{\"line\":{\"color\":\"#2a3f5f\"}},\"annotationdefaults\":{\"arrowcolor\":\"#2a3f5f\",\"arrowhead\":0,\"arrowwidth\":1},\"geo\":{\"bgcolor\":\"white\",\"landcolor\":\"#E5ECF6\",\"subunitcolor\":\"white\",\"showland\":true,\"showlakes\":true,\"lakecolor\":\"white\"},\"title\":{\"x\":0.05},\"mapbox\":{\"style\":\"light\"}}},\"xaxis\":{\"rangeslider\":{\"visible\":false},\"title\":{\"text\":\"Fecha\"}},\"title\":{\"text\":\"Gr\\u00e1fico de Velas de Bitcoin\"},\"yaxis\":{\"title\":{\"text\":\"Precio (USD)\"}}},                        {\"responsive\": true}                    ).then(function(){\n",
       "                            \n",
       "var gd = document.getElementById('7684128c-5f97-4c21-ab24-d6461c54b8e5');\n",
       "var x = new MutationObserver(function (mutations, observer) {{\n",
       "        var display = window.getComputedStyle(gd).display;\n",
       "        if (!display || display === 'none') {{\n",
       "            console.log([gd, 'removed!']);\n",
       "            Plotly.purge(gd);\n",
       "            observer.disconnect();\n",
       "        }}\n",
       "}});\n",
       "\n",
       "// Listen for the removal of the full notebook cells\n",
       "var notebookContainer = gd.closest('#notebook-container');\n",
       "if (notebookContainer) {{\n",
       "    x.observe(notebookContainer, {childList: true});\n",
       "}}\n",
       "\n",
       "// Listen for the clearing of the current output cell\n",
       "var outputEl = gd.closest('.output');\n",
       "if (outputEl) {{\n",
       "    x.observe(outputEl, {childList: true});\n",
       "}}\n",
       "\n",
       "                        })                };                });            </script>        </div>"
      ]
     },
     "metadata": {},
     "output_type": "display_data"
    }
   ],
   "source": [
    "df_plot = organized_df[-100:]\n",
    "\n",
    "# Crear el gráfico de velas\n",
    "fig = go.Figure(data=[go.Candlestick(\n",
    "    x=df_plot['Datetime'],  # Columna de fechas\n",
    "    open=df_plot['Open'],   # Columna de precios de apertura\n",
    "    high=df_plot['High'],   # Columna de precios más altos\n",
    "    low=df_plot['Low'],     # Columna de precios más bajos\n",
    "    close=df_plot['Close']  # Columna de precios de cierre\n",
    ")])\n",
    "\n",
    "# MA 10\n",
    "fig.add_trace(go.Scatter(\n",
    "    x=df_plot['Datetime'],\n",
    "    y=df_plot['MA_10'],\n",
    "    mode='lines',\n",
    "    name='Media Móvil (10 períodos)'\n",
    "))\n",
    "\n",
    "# MA 20\n",
    "fig.add_trace(go.Scatter(\n",
    "    x=df_plot['Datetime'],\n",
    "    y=df_plot['MA_20'],\n",
    "    mode='lines',\n",
    "    name='Media Móvil (20 períodos)'\n",
    "))\n",
    "\n",
    "# EMA 20\n",
    "fig.add_trace(go.Scatter(\n",
    "    x=df_plot['Datetime'],\n",
    "    y=df_plot['EMA_20'],\n",
    "    mode='lines',\n",
    "    name='Media Móvil Exp (20 períodos)'\n",
    "))\n",
    "\n",
    "# Ajustar diseño\n",
    "fig.update_layout(\n",
    "    title=\"Gráfico de Velas de Bitcoin\",\n",
    "    xaxis_title=\"Fecha\",\n",
    "    yaxis_title=\"Precio (USD)\",\n",
    "    xaxis_rangeslider_visible=False\n",
    ")\n",
    "\n",
    "fig.show()\n"
   ]
  },
  {
   "cell_type": "code",
   "execution_count": 10,
   "metadata": {},
   "outputs": [
    {
     "data": {
      "text/html": [
       "<div>\n",
       "<style scoped>\n",
       "    .dataframe tbody tr th:only-of-type {\n",
       "        vertical-align: middle;\n",
       "    }\n",
       "\n",
       "    .dataframe tbody tr th {\n",
       "        vertical-align: top;\n",
       "    }\n",
       "\n",
       "    .dataframe thead th {\n",
       "        text-align: right;\n",
       "    }\n",
       "</style>\n",
       "<table border=\"1\" class=\"dataframe\">\n",
       "  <thead>\n",
       "    <tr style=\"text-align: right;\">\n",
       "      <th>Price</th>\n",
       "      <th>Close</th>\n",
       "      <th>High</th>\n",
       "      <th>Low</th>\n",
       "      <th>Open</th>\n",
       "      <th>Volume</th>\n",
       "      <th>MA_10</th>\n",
       "      <th>MA_20</th>\n",
       "    </tr>\n",
       "  </thead>\n",
       "  <tbody>\n",
       "    <tr>\n",
       "      <th>count</th>\n",
       "      <td>100.000000</td>\n",
       "      <td>100.000000</td>\n",
       "      <td>100.000000</td>\n",
       "      <td>100.000000</td>\n",
       "      <td>1.000000e+02</td>\n",
       "      <td>100.000000</td>\n",
       "      <td>100.000000</td>\n",
       "    </tr>\n",
       "    <tr>\n",
       "      <th>mean</th>\n",
       "      <td>97319.926016</td>\n",
       "      <td>97671.389609</td>\n",
       "      <td>97014.106875</td>\n",
       "      <td>97374.834531</td>\n",
       "      <td>7.187054e+08</td>\n",
       "      <td>97561.631016</td>\n",
       "      <td>98011.921865</td>\n",
       "    </tr>\n",
       "    <tr>\n",
       "      <th>std</th>\n",
       "      <td>3181.028837</td>\n",
       "      <td>3104.491801</td>\n",
       "      <td>3237.746488</td>\n",
       "      <td>3141.307595</td>\n",
       "      <td>9.954547e+08</td>\n",
       "      <td>2910.095877</td>\n",
       "      <td>2282.426214</td>\n",
       "    </tr>\n",
       "    <tr>\n",
       "      <th>min</th>\n",
       "      <td>91929.093750</td>\n",
       "      <td>92213.171875</td>\n",
       "      <td>91232.859375</td>\n",
       "      <td>91900.656250</td>\n",
       "      <td>0.000000e+00</td>\n",
       "      <td>92728.822656</td>\n",
       "      <td>93661.213021</td>\n",
       "    </tr>\n",
       "    <tr>\n",
       "      <th>25%</th>\n",
       "      <td>94604.943359</td>\n",
       "      <td>94980.451172</td>\n",
       "      <td>94219.693359</td>\n",
       "      <td>94742.302734</td>\n",
       "      <td>0.000000e+00</td>\n",
       "      <td>94668.333594</td>\n",
       "      <td>95827.524219</td>\n",
       "    </tr>\n",
       "    <tr>\n",
       "      <th>50%</th>\n",
       "      <td>96928.160156</td>\n",
       "      <td>97186.808594</td>\n",
       "      <td>96659.562500</td>\n",
       "      <td>97040.417969</td>\n",
       "      <td>4.429076e+08</td>\n",
       "      <td>97858.648047</td>\n",
       "      <td>98334.009115</td>\n",
       "    </tr>\n",
       "    <tr>\n",
       "      <th>75%</th>\n",
       "      <td>99689.425781</td>\n",
       "      <td>100182.273438</td>\n",
       "      <td>99403.109375</td>\n",
       "      <td>99667.740234</td>\n",
       "      <td>9.785631e+08</td>\n",
       "      <td>99941.662305</td>\n",
       "      <td>99929.485547</td>\n",
       "    </tr>\n",
       "    <tr>\n",
       "      <th>max</th>\n",
       "      <td>102228.507812</td>\n",
       "      <td>102674.328125</td>\n",
       "      <td>102057.421875</td>\n",
       "      <td>102258.687500</td>\n",
       "      <td>5.847634e+09</td>\n",
       "      <td>102003.125000</td>\n",
       "      <td>101206.545833</td>\n",
       "    </tr>\n",
       "  </tbody>\n",
       "</table>\n",
       "</div>"
      ],
      "text/plain": [
       "Price          Close           High            Low           Open  \\\n",
       "count     100.000000     100.000000     100.000000     100.000000   \n",
       "mean    97319.926016   97671.389609   97014.106875   97374.834531   \n",
       "std      3181.028837    3104.491801    3237.746488    3141.307595   \n",
       "min     91929.093750   92213.171875   91232.859375   91900.656250   \n",
       "25%     94604.943359   94980.451172   94219.693359   94742.302734   \n",
       "50%     96928.160156   97186.808594   96659.562500   97040.417969   \n",
       "75%     99689.425781  100182.273438   99403.109375   99667.740234   \n",
       "max    102228.507812  102674.328125  102057.421875  102258.687500   \n",
       "\n",
       "Price        Volume          MA_10          MA_20  \n",
       "count  1.000000e+02     100.000000     100.000000  \n",
       "mean   7.187054e+08   97561.631016   98011.921865  \n",
       "std    9.954547e+08    2910.095877    2282.426214  \n",
       "min    0.000000e+00   92728.822656   93661.213021  \n",
       "25%    0.000000e+00   94668.333594   95827.524219  \n",
       "50%    4.429076e+08   97858.648047   98334.009115  \n",
       "75%    9.785631e+08   99941.662305   99929.485547  \n",
       "max    5.847634e+09  102003.125000  101206.545833  "
      ]
     },
     "execution_count": 10,
     "metadata": {},
     "output_type": "execute_result"
    }
   ],
   "source": [
    "df_plot.describe()"
   ]
  },
  {
   "cell_type": "code",
   "execution_count": null,
   "metadata": {},
   "outputs": [],
   "source": []
  }
 ],
 "metadata": {
  "kernelspec": {
   "display_name": "nancy",
   "language": "python",
   "name": "python3"
  },
  "language_info": {
   "codemirror_mode": {
    "name": "ipython",
    "version": 3
   },
   "file_extension": ".py",
   "mimetype": "text/x-python",
   "name": "python",
   "nbconvert_exporter": "python",
   "pygments_lexer": "ipython3",
   "version": "3.13.1"
  }
 },
 "nbformat": 4,
 "nbformat_minor": 2
}
